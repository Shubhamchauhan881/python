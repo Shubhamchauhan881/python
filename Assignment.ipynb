{
 "cells": [
  {
   "cell_type": "markdown",
   "id": "3d2b199c-05c8-49b7-8c45-c93adca93e1c",
   "metadata": {},
   "source": [
    "# Assignment for practice "
   ]
  },
  {
   "cell_type": "code",
   "execution_count": 2,
   "id": "efd83c91-2a97-4fb3-8726-00a23a9d6d88",
   "metadata": {},
   "outputs": [
    {
     "name": "stdout",
     "output_type": "stream",
     "text": [
      "501\n"
     ]
    }
   ],
   "source": [
    "a= 123\n",
    "b=456\n",
    "c=78\n",
    "result= a + b - c\n",
    "print(result) "
   ]
  },
  {
   "cell_type": "code",
   "execution_count": 4,
   "id": "4b4afb94-48ac-450e-843d-214a4b619ce5",
   "metadata": {},
   "outputs": [
    {
     "name": "stdout",
     "output_type": "stream",
     "text": [
      "1000\n"
     ]
    }
   ],
   "source": [
    "a = 25\n",
    "b = 40\n",
    "result= a * b\n",
    "print (result)\n"
   ]
  },
  {
   "cell_type": "code",
   "execution_count": 6,
   "id": "aff69e29-b240-45b5-b164-a9a0edbc62b5",
   "metadata": {},
   "outputs": [
    {
     "name": "stdout",
     "output_type": "stream",
     "text": [
      "Quotient: 62\n",
      "Remainder: 4\n"
     ]
    }
   ],
   "source": [
    "a = 500\n",
    "b = 8\n",
    "quotient = a // b  \n",
    "remainder = a % b  \n",
    "print(\"Quotient:\", quotient)\n",
    "print(\"Remainder:\", remainder)"
   ]
  },
  {
   "cell_type": "code",
   "execution_count": 8,
   "id": "f44ba0be-ecc0-437b-92bf-a9aaa5692896",
   "metadata": {},
   "outputs": [
    {
     "name": "stdout",
     "output_type": "stream",
     "text": [
      "9.0\n"
     ]
    }
   ],
   "source": [
    "a = 45.6\n",
    "b = 5 \n",
    "result = 45.5 // 5\n",
    "print (result)\n"
   ]
  },
  {
   "cell_type": "code",
   "execution_count": 10,
   "id": "e76bf02b-00c4-41c5-aa29-2cbfb9996452",
   "metadata": {},
   "outputs": [
    {
     "name": "stdout",
     "output_type": "stream",
     "text": [
      "1683941953091573505989403773953024\n"
     ]
    }
   ],
   "source": [
    "a = 2102\n",
    "result= a ** 10\n",
    "print (result)"
   ]
  },
  {
   "cell_type": "code",
   "execution_count": 12,
   "id": "e3643b44-9b20-4abd-8409-64813956d835",
   "metadata": {},
   "outputs": [
    {
     "name": "stdout",
     "output_type": "stream",
     "text": [
      "Yes\n"
     ]
    }
   ],
   "source": [
    "a = 525\n",
    "b = 7\n",
    "if 525 % 7 == 0:\n",
    "    print(\"Yes\")\n",
    "else:\n",
    "    print(\"No\")"
   ]
  },
  {
   "cell_type": "code",
   "execution_count": 14,
   "id": "0c4f01b3-35ef-462e-b495-b688de875ed8",
   "metadata": {},
   "outputs": [
    {
     "name": "stdout",
     "output_type": "stream",
     "text": [
      "55.0\n"
     ]
    }
   ],
   "source": [
    "answer = (25 + 5) * 2 - 10 / 2\n",
    "print(answer)"
   ]
  },
  {
   "cell_type": "code",
   "execution_count": 20,
   "id": "d9dd0884-d431-4b0b-bd06-7d247fb3bba0",
   "metadata": {},
   "outputs": [
    {
     "name": "stdout",
     "output_type": "stream",
     "text": [
      "-350\n"
     ]
    }
   ],
   "source": [
    "a = 150\n",
    "b = 200\n",
    "sum_value = a + b\n",
    "result = - sum_value\n",
    "print(result)\n",
    "\n",
    "\n"
   ]
  },
  {
   "cell_type": "code",
   "execution_count": 22,
   "id": "115024d3-8afc-42b9-a7fe-a040a41fc15d",
   "metadata": {},
   "outputs": [
    {
     "name": "stdout",
     "output_type": "stream",
     "text": [
      "25\n"
     ]
    }
   ],
   "source": [
    "x = 10 \n",
    "x += 15\n",
    "print(x)"
   ]
  },
  {
   "cell_type": "code",
   "execution_count": 33,
   "id": "a8209025-4bf3-4799-a40f-ec12224db896",
   "metadata": {},
   "outputs": [
    {
     "name": "stdout",
     "output_type": "stream",
     "text": [
      "32\n"
     ]
    }
   ],
   "source": [
    "result = 20 + 3 * (2**3 - 4)\n",
    "print(result)"
   ]
  },
  {
   "cell_type": "code",
   "execution_count": 39,
   "id": "a1a631a1-de0b-44dd-8988-d06ee640ec13",
   "metadata": {},
   "outputs": [
    {
     "name": "stdout",
     "output_type": "stream",
     "text": [
      "Yes\n"
     ]
    }
   ],
   "source": [
    "a = 34\n",
    "b = 34.0\n",
    "if a == b:\n",
    "    print(\"Yes\")\n",
    "else:\n",
    "    print(\"No\")"
   ]
  },
  {
   "cell_type": "code",
   "execution_count": 43,
   "id": "47f48c36-1472-4437-830b-30235603210d",
   "metadata": {},
   "outputs": [
    {
     "name": "stdout",
     "output_type": "stream",
     "text": [
      "No\n"
     ]
    }
   ],
   "source": [
    "a = 15\n",
    "b = 10 + 5\n",
    "if a!= b:\n",
    "    print(\"Yes\")\n",
    "else:\n",
    "    print(\"No\")\n"
   ]
  },
  {
   "cell_type": "code",
   "execution_count": 45,
   "id": "924c17b6-7b1c-49ec-9e9c-46cd89af3712",
   "metadata": {},
   "outputs": [
    {
     "name": "stdout",
     "output_type": "stream",
     "text": [
      "['thor', 'iron man', 'loki', 'spider man']\n"
     ]
    }
   ],
   "source": [
    "avenger = [\"thor\",\"iron man\", \"loki\",\"spider man\"]\n",
    "print(avenger)"
   ]
  },
  {
   "cell_type": "code",
   "execution_count": 47,
   "id": "b961e960-f1c4-4201-9b13-3010822b37ae",
   "metadata": {},
   "outputs": [
    {
     "name": "stdout",
     "output_type": "stream",
     "text": [
      "True\n"
     ]
    }
   ],
   "source": [
    "print(\"loki\" in avenger)"
   ]
  },
  {
   "cell_type": "code",
   "execution_count": 49,
   "id": "a7c9b1c6-036f-4f39-a3a8-8c00f674b8d4",
   "metadata": {},
   "outputs": [
    {
     "name": "stdout",
     "output_type": "stream",
     "text": [
      "False\n"
     ]
    }
   ],
   "source": [
    "print(\"superman\"in avenger)"
   ]
  },
  {
   "cell_type": "code",
   "execution_count": 51,
   "id": "4c088b36-2dfb-49df-bca6-c52e8b4659cf",
   "metadata": {},
   "outputs": [
    {
     "name": "stdout",
     "output_type": "stream",
     "text": [
      "True\n"
     ]
    }
   ],
   "source": [
    "print(\"jaani\" not in avenger)"
   ]
  },
  {
   "cell_type": "code",
   "execution_count": 53,
   "id": "27b0c43b-1730-43af-8cd1-c9bb14405cc8",
   "metadata": {},
   "outputs": [],
   "source": [
    "x = [\"apple\",\"orange\"]\n",
    "y = [\"apple\",\"orange\"]\n",
    "z = x "
   ]
  },
  {
   "cell_type": "code",
   "execution_count": 55,
   "id": "7f75bb42-f82e-455c-9ee0-ac76ba52aa22",
   "metadata": {},
   "outputs": [
    {
     "data": {
      "text/plain": [
       "True"
      ]
     },
     "execution_count": 55,
     "metadata": {},
     "output_type": "execute_result"
    }
   ],
   "source": [
    "x is z"
   ]
  },
  {
   "cell_type": "code",
   "execution_count": 57,
   "id": "9936ac85-d333-499a-b545-de8b95c3ed90",
   "metadata": {},
   "outputs": [
    {
     "data": {
      "text/plain": [
       "False"
      ]
     },
     "execution_count": 57,
     "metadata": {},
     "output_type": "execute_result"
    }
   ],
   "source": [
    "x is y "
   ]
  },
  {
   "cell_type": "code",
   "execution_count": 59,
   "id": "8573ce05-96cd-4659-b757-56a22fe916d6",
   "metadata": {},
   "outputs": [
    {
     "data": {
      "text/plain": [
       "True"
      ]
     },
     "execution_count": 59,
     "metadata": {},
     "output_type": "execute_result"
    }
   ],
   "source": [
    "x==y"
   ]
  },
  {
   "cell_type": "code",
   "execution_count": 75,
   "id": "3bff73a3-1fb9-4a5c-8418-04abefe5df8f",
   "metadata": {},
   "outputs": [
    {
     "data": {
      "text/plain": [
       "'dragon fruit'"
      ]
     },
     "execution_count": 75,
     "metadata": {},
     "output_type": "execute_result"
    }
   ],
   "source": [
    "x [1] = \"dragon fruit\"\n",
    "x [1]\n"
   ]
  },
  {
   "cell_type": "code",
   "execution_count": 83,
   "id": "6f3dca08-4135-4bd0-a680-e544e6ddaef3",
   "metadata": {},
   "outputs": [
    {
     "name": "stdout",
     "output_type": "stream",
     "text": [
      "what a \"wonderful\" day!\n"
     ]
    }
   ],
   "source": [
    "s = 'what a \"wonderful\" day!'\n",
    "print(s)"
   ]
  },
  {
   "cell_type": "code",
   "execution_count": 3,
   "id": "c5e536d7-4a2c-40b1-9b71-a115361b9567",
   "metadata": {},
   "outputs": [
    {
     "name": "stdout",
     "output_type": "stream",
     "text": [
      "The values are equal.\n"
     ]
    }
   ],
   "source": [
    "value1 = 34\n",
    "value2 = 34.0\n",
    "\n",
    "if value1 == value2:\n",
    "    print(\"The values are equal.\")\n",
    "else:\n",
    "    print(\"The values are not equal.\")\n"
   ]
  },
  {
   "cell_type": "code",
   "execution_count": 7,
   "id": "f94a5854-ef00-49db-807e-711399c6bbf6",
   "metadata": {},
   "outputs": [
    {
     "name": "stdout",
     "output_type": "stream",
     "text": [
      "The values are equal.\n"
     ]
    }
   ],
   "source": [
    "value1 = 34\n",
    "value2 = 34.0\n",
    "if value1 == value2:\n",
    "    print(\"The values are equal.\")\n",
    "else:\n",
    "    print(\"The values are not equal.\")"
   ]
  },
  {
   "cell_type": "code",
   "execution_count": 11,
   "id": "5de594ad-f455-4fc2-829b-4e53ef3cb647",
   "metadata": {},
   "outputs": [
    {
     "name": "stdout",
     "output_type": "stream",
     "text": [
      "78 is greater than 45.\n"
     ]
    }
   ],
   "source": [
    "value1 = 78\n",
    "value2 = 45\n",
    "if value1 > value2:\n",
    "    print(f\"{value1} is greater than {value2}.\")\n",
    "else:\n",
    "    print(f\"{value1} is not greater than {value2}.\")"
   ]
  },
  {
   "cell_type": "code",
   "execution_count": 15,
   "id": "03cf80e5-e5ac-4000-aab4-c678039a2bbe",
   "metadata": {},
   "outputs": [
    {
     "name": "stdout",
     "output_type": "stream",
     "text": [
      "The square of 5 is less than 30.\n"
     ]
    }
   ],
   "source": [
    "value = 5\n",
    "if value**2 < 30:\n",
    "    print(f\"The square of {value} is less than 30.\")\n",
    "else:\n",
    "    print(f\"The square of {value} is not less than 30.\")"
   ]
  },
  {
   "cell_type": "code",
   "execution_count": 19,
   "id": "33f4bf3f-e93f-4e76-b784-299bc21bedf1",
   "metadata": {},
   "outputs": [
    {
     "name": "stdout",
     "output_type": "stream",
     "text": [
      "20 is not greater than or equal to 1030.\n"
     ]
    }
   ],
   "source": [
    "value1 = 20\n",
    "value2 = 10 + 1010 + 10\n",
    "if value1 >= value2:\n",
    "    print(f\"{value1} is greater than or equal to {value2}.\")\n",
    "else:\n",
    "    print(f\"{value1} is not greater than or equal to {value2}.\")"
   ]
  },
  {
   "cell_type": "code",
   "execution_count": 25,
   "id": "cd962c15-278a-4177-8b16-62fb781ad456",
   "metadata": {},
   "outputs": [
    {
     "name": "stdout",
     "output_type": "stream",
     "text": [
      "36926037 is not less than or equal to 2727.\n"
     ]
    }
   ],
   "source": [
    "value1 = 333**3  \n",
    "value2 = 2727\n",
    "if value1 <= value2:\n",
    "    print(f\"{value1} is less than or equal to {value2}.\")\n",
    "else:\n",
    "    print(f\"{value1} is not less than or equal to {value2}.\")"
   ]
  },
  {
   "cell_type": "code",
   "execution_count": 27,
   "id": "e30f9bfc-0c7e-42ca-b1ff-c56185d86fa8",
   "metadata": {},
   "outputs": [
    {
     "name": "stdout",
     "output_type": "stream",
     "text": [
      "Is the comparison 10 < 15 < 2010 < 15 < 20 true? False\n"
     ]
    }
   ],
   "source": [
    "result = 10 < 15 < 2010 < 15 < 20\n",
    "print(f\"Is the comparison 10 < 15 < 2010 < 15 < 20 true? {result}\")"
   ]
  },
  {
   "cell_type": "code",
   "execution_count": 29,
   "id": "15286ce5-82ed-4fc9-b105-50e551dc3d69",
   "metadata": {},
   "outputs": [
    {
     "name": "stdout",
     "output_type": "stream",
     "text": [
      "50 / 2 is equal to 25.\n"
     ]
    }
   ],
   "source": [
    "a = 50\n",
    "b = 25\n",
    "if a / 2 == b:\n",
    "    print(f\"{a} / 2 is equal to {b}.\")\n",
    "else:\n",
    "    print(f\"{a} / 2 is not equal to {b}.\")"
   ]
  },
  {
   "cell_type": "code",
   "execution_count": 35,
   "id": "35298696-c2e7-44bd-9942-97b4d7bbc707",
   "metadata": {},
   "outputs": [
    {
     "name": "stdout",
     "output_type": "stream",
     "text": [
      "The strings Python and python are not equal.\n"
     ]
    }
   ],
   "source": [
    "\n",
    "str1 = \"Python\"\n",
    "str2 = \"python\"\n",
    "if str1 == str2:\n",
    "    print(f\"The strings {str1} and {str2} are equal.\")\n",
    "else:\n",
    "    print(f\"The strings {str1} and {str2} are not equal.\")"
   ]
  },
  {
   "cell_type": "code",
   "execution_count": 37,
   "id": "4d33c3cb-65c5-4379-805a-17151de6d647",
   "metadata": {},
   "outputs": [
    {
     "name": "stdout",
     "output_type": "stream",
     "text": [
      "45.0 is greater than 44.\n"
     ]
    }
   ],
   "source": [
    "float_value = 45.0\n",
    "integer_value = 44\n",
    "if float_value > integer_value:\n",
    "    print(f\"{float_value} is greater than {integer_value}.\")\n",
    "else:\n",
    "    print(f\"{float_value} is not greater than {integer_value}.\")"
   ]
  },
  {
   "cell_type": "code",
   "execution_count": 39,
   "id": "48f62b76-8ec3-4627-888c-ff92f4da16f1",
   "metadata": {},
   "outputs": [
    {
     "name": "stdout",
     "output_type": "stream",
     "text": [
      "Both conditions are true.\n"
     ]
    }
   ],
   "source": [
    "if 10 > 5 and 15 < 20:\n",
    "    print(\"Both conditions are true.\")\n",
    "else:\n",
    "    print(\"One or both conditions are false.\")"
   ]
  },
  {
   "cell_type": "code",
   "execution_count": 43,
   "id": "dc383896-0a92-45e6-a490-94cd0f06d5c0",
   "metadata": {},
   "outputs": [
    {
     "name": "stdout",
     "output_type": "stream",
     "text": [
      "At least one condition is true.\n"
     ]
    }
   ],
   "source": [
    "if 5 == 10 or 20 > 15:\n",
    "    print(\"At least one condition is true.\")\n",
    "else:\n",
    "    print(\"Neither condition is true.\")"
   ]
  },
  {
   "cell_type": "code",
   "execution_count": 45,
   "id": "c4f2a92a-d7d8-4079-ae46-87c68a6e074f",
   "metadata": {},
   "outputs": [
    {
     "name": "stdout",
     "output_type": "stream",
     "text": [
      "The condition is negated and is true.\n"
     ]
    }
   ],
   "source": [
    "if not (10 > 5):\n",
    "    print(\"The condition is negated and is false.\")\n",
    "else:\n",
    "    print(\"The condition is negated and is true.\")"
   ]
  },
  {
   "cell_type": "code",
   "execution_count": 47,
   "id": "e322d140-4edf-4b08-b197-c89718e50262",
   "metadata": {},
   "outputs": [
    {
     "name": "stdout",
     "output_type": "stream",
     "text": [
      "The condition is true.\n"
     ]
    }
   ],
   "source": [
    "if 10 > 5 and (20 < 15 or 5 == 5):\n",
    "    print(\"The condition is true.\")\n",
    "else:\n",
    "    print(\"The condition is false.\")"
   ]
  },
  {
   "cell_type": "code",
   "execution_count": 51,
   "id": "8cfbf454-52e9-48bf-b1e7-b6e2f1036fdf",
   "metadata": {},
   "outputs": [
    {
     "name": "stdout",
     "output_type": "stream",
     "text": [
      "The condition is false.\n"
     ]
    }
   ],
   "source": [
    "if False and True:\n",
    "    print(\"The condition is true.\")\n",
    "else:\n",
    "    print(\"The condition is false.\")"
   ]
  },
  {
   "cell_type": "code",
   "execution_count": 53,
   "id": "c5e7f349-2cd9-45c7-94f1-88135f4363c4",
   "metadata": {},
   "outputs": [
    {
     "name": "stdout",
     "output_type": "stream",
     "text": [
      "The result of 0 and 10 > 5 is: 0\n"
     ]
    }
   ],
   "source": [
    "result = 0 and 10 > 5\n",
    "\n",
    "# Print the result\n",
    "print(\"The result of 0 and 10 > 5 is:\", result)"
   ]
  },
  {
   "cell_type": "code",
   "execution_count": 55,
   "id": "15237e2a-6014-4626-a070-84e1afba5830",
   "metadata": {},
   "outputs": [
    {
     "name": "stdout",
     "output_type": "stream",
     "text": [
      "The result of 10 or 5 is: 10\n"
     ]
    }
   ],
   "source": [
    "result = 10 or 5\n",
    "print(\"The result of 10 or 5 is:\", result)"
   ]
  },
  {
   "cell_type": "code",
   "execution_count": 57,
   "id": "5064e01e-9cad-45bb-ae66-e5e7b34645cf",
   "metadata": {},
   "outputs": [
    {
     "name": "stdout",
     "output_type": "stream",
     "text": [
      "The result of x or y and not y is: True\n"
     ]
    }
   ],
   "source": [
    "x = True\n",
    "y = False\n",
    "result = x or (y and not y)\n",
    "print(f\"The result of x or y and not y is: {result}\")"
   ]
  },
  {
   "cell_type": "code",
   "execution_count": 59,
   "id": "0e2e60d1-c28e-4617-9560-cfc0d6f7cd37",
   "metadata": {},
   "outputs": [
    {
     "name": "stdout",
     "output_type": "stream",
     "text": [
      "10 is in the list and 20 is not in the list.\n"
     ]
    }
   ],
   "source": [
    "list1 = [5, 10, 15]\n",
    "if 10 in list1 and 20 not in list1:\n",
    "    print(\"10 is in the list and 20 is not in the list.\")\n",
    "else:\n",
    "    print(\"The condition is not met.\")\n",
    "    "
   ]
  },
  {
   "cell_type": "code",
   "execution_count": 63,
   "id": "4957a826-296b-484f-9ffb-15bbec14b890",
   "metadata": {},
   "outputs": [
    {
     "name": "stdin",
     "output_type": "stream",
     "text": [
      "Enter a number:  15\n"
     ]
    },
    {
     "name": "stdout",
     "output_type": "stream",
     "text": [
      "The number 15 is positive and divisible by both 3 and 5.\n"
     ]
    }
   ],
   "source": [
    "num = int(input(\"Enter a number: \"))\n",
    "if num > 0 and num % 3 == 0 and num % 5 == 0:\n",
    "    print(f\"The number {num} is positive and divisible by both 3 and 5.\")\n",
    "else:\n",
    "    print(f\"The number {num} is either not positive or not divisible by both 3 and 5.\")"
   ]
  },
  {
   "cell_type": "code",
   "execution_count": 3,
   "id": "3d0c8924-5808-49f5-a4c4-46261516db33",
   "metadata": {},
   "outputs": [
    {
     "data": {
      "text/plain": [
       "'chauhan'"
      ]
     },
     "execution_count": 3,
     "metadata": {},
     "output_type": "execute_result"
    }
   ],
   "source": [
    "text = \"Shubhamchauhan\"\n",
    "substring = text[7:14]\n",
    "substring\n"
   ]
  },
  {
   "cell_type": "code",
   "execution_count": 9,
   "id": "d6a6395b-73b8-4fa0-b188-fb377c02df0e",
   "metadata": {},
   "outputs": [
    {
     "data": {
      "text/plain": [
       "'dlrowolleh'"
      ]
     },
     "execution_count": 9,
     "metadata": {},
     "output_type": "execute_result"
    }
   ],
   "source": [
    "file = \"helloworld\"\n",
    "reversed_file = file[::-1]\n",
    "reversed_file"
   ]
  },
  {
   "cell_type": "code",
   "execution_count": 15,
   "id": "06fbdee7-f18d-4b3c-afbb-cd21c0a8d5c7",
   "metadata": {},
   "outputs": [
    {
     "data": {
      "text/plain": [
       "'aceg'"
      ]
     },
     "execution_count": 15,
     "metadata": {},
     "output_type": "execute_result"
    }
   ],
   "source": [
    "char = \"abcdefg\"\n",
    "every_second_char = char[::2]\n",
    "every_second_char"
   ]
  },
  {
   "cell_type": "code",
   "execution_count": 31,
   "id": "44e3d349-5e57-44dd-a3ce-6384902dc867",
   "metadata": {},
   "outputs": [
    {
     "name": "stdout",
     "output_type": "stream",
     "text": [
      "x is greater\n"
     ]
    }
   ],
   "source": [
    "x = 14\n",
    "y = 13\n",
    "\n",
    "if x > y:\n",
    "    print (\"x is greater\")"
   ]
  },
  {
   "cell_type": "code",
   "execution_count": 1,
   "id": "f1d8e862-1f90-431f-a4c1-d0b195524bdf",
   "metadata": {},
   "outputs": [
    {
     "name": "stdout",
     "output_type": "stream",
     "text": [
      "y is greater\n"
     ]
    }
   ],
   "source": [
    "x =10\n",
    "y = 13\n",
    "\n",
    "if x > y:\n",
    "    print (\"x is greater\")\n",
    "else: \n",
    "    print(\"y is greater\")"
   ]
  },
  {
   "cell_type": "code",
   "execution_count": 9,
   "id": "523b469d-e896-4897-92f1-56a2271a4798",
   "metadata": {},
   "outputs": [
    {
     "name": "stdin",
     "output_type": "stream",
     "text": [
      "enter age of rahul:  12\n",
      "enter age of Sahil:  12\n"
     ]
    },
    {
     "name": "stdout",
     "output_type": "stream",
     "text": [
      "x and y are twins\n"
     ]
    }
   ],
   "source": [
    "x = int(input(\"enter age of rahul: \"))\n",
    "y = int(input(\"enter age of Sahil: \"))\n",
    "\n",
    "if x == y:\n",
    "    print (\"x and y are twins\")\n",
    "elif x > y:\n",
    "    print(\"x is elder\")\n",
    "else:\n",
    "    print(\"y is elder\")"
   ]
  },
  {
   "cell_type": "code",
   "execution_count": 37,
   "id": "4e54019b-49ed-416a-ac23-bdf9333f29a4",
   "metadata": {},
   "outputs": [
    {
     "name": "stdin",
     "output_type": "stream",
     "text": [
      "enter your age 60\n"
     ]
    },
    {
     "name": "stdout",
     "output_type": "stream",
     "text": [
      "you can vote\n"
     ]
    }
   ],
   "source": [
    " age = int(input(\"enter your age\"))\n",
    "y = 18\n",
    "\n",
    "if age == y:\n",
    "    print( \" you can vote\")\n",
    "elif age > y:\n",
    "    print(\"you can vote\")\n",
    "else:\n",
    "    print(\"you can't vote\")\n"
   ]
  },
  {
   "cell_type": "code",
   "execution_count": 41,
   "id": "c15a7627-19c2-495b-9397-22755f33c4fd",
   "metadata": {},
   "outputs": [
    {
     "name": "stdin",
     "output_type": "stream",
     "text": [
      "enter your age 45\n"
     ]
    },
    {
     "name": "stdout",
     "output_type": "stream",
     "text": [
      " you can vote\n"
     ]
    }
   ],
   "source": [
    "age = int(input(\"enter your age\"))\n",
    "\n",
    "if age >= 18:\n",
    "    print( \" you can vote\")\n",
    "else: \n",
    "    print(\" you can't vote\")"
   ]
  },
  {
   "cell_type": "code",
   "execution_count": 45,
   "id": "be38b894-5fa1-4920-b8a6-3df418f086e7",
   "metadata": {},
   "outputs": [
    {
     "name": "stdin",
     "output_type": "stream",
     "text": [
      "Enter a number between 1 to 7  5\n"
     ]
    },
    {
     "name": "stdout",
     "output_type": "stream",
     "text": [
      "The day is: Thursday\n"
     ]
    }
   ],
   "source": [
    "day_number = int(input(\"Enter a number between 1 to 7 \"))\n",
    "if day_number < 1 or day_number > 7:\n",
    "    print(\"Invalid input! Please enter a number between 1 and 7.\")\n",
    "else:\n",
    "    days_of_week = [\"Sunday\", \"Monday\", \"Tuesday\", \"Wednesday\", \"Thursday\", \"Friday\", \"Saturday\"]\n",
    "    print(\"The day is:\", days_of_week[day_number - 1])"
   ]
  },
  {
   "cell_type": "code",
   "execution_count": 29,
   "id": "273db2ea-4a7a-4ecd-ac0b-09e223a6ce8f",
   "metadata": {},
   "outputs": [
    {
     "name": "stdin",
     "output_type": "stream",
     "text": [
      "Enter a number:  12\n"
     ]
    },
    {
     "name": "stdout",
     "output_type": "stream",
     "text": [
      "The number is even.\n"
     ]
    }
   ],
   "source": [
    "num = int(input(\"Enter a number: \"))\n",
    "if num % 2 == 0:\n",
    "    print(\"The number is even.\")\n",
    "else:\n",
    "    print(\"The numberis odd.\")"
   ]
  },
  {
   "cell_type": "code",
   "execution_count": 3,
   "id": "dfe10821-732b-47f7-9afb-6e64f7c25cc1",
   "metadata": {},
   "outputs": [
    {
     "name": "stdout",
     "output_type": "stream",
     "text": [
      "The number '1' appears 10 times in the list.\n"
     ]
    }
   ],
   "source": [
    "my_list = [1, 2, 3, 4, 5, 6, 7, 8, 9, 1, 1, 1, 1,1,1,1,1,1,]\n",
    "count = 0\n",
    "for i in range(len(my_list)):\n",
    "    if my_list[i] == 1:\n",
    "        count += 1\n",
    "print(f\"The number '1' appears {count} times in the list.\")"
   ]
  },
  {
   "cell_type": "markdown",
   "id": "765bc3d9-78e8-4aa9-b698-d79d7545d889",
   "metadata": {},
   "source": [
    "## 5 problem statement for function"
   ]
  },
  {
   "cell_type": "code",
   "execution_count": 35,
   "id": "fc12af01-d92f-4036-b077-75f2c93e18b8",
   "metadata": {},
   "outputs": [
    {
     "name": "stdout",
     "output_type": "stream",
     "text": [
      "(12, 9)\n"
     ]
    }
   ],
   "source": [
    "def sum_even_odd(lst):\n",
    "    even_sum = 0\n",
    "    odd_sum = 0\n",
    "    for num in lst:\n",
    "        if num % 2 == 0:\n",
    "            even_sum += num\n",
    "        else:\n",
    "            odd_sum += num\n",
    "    return (even_sum, odd_sum)\n",
    "print(sum_even_odd([1, 2, 3, 4, 5, 6])) \n"
   ]
  },
  {
   "cell_type": "code",
   "execution_count": 37,
   "id": "72e0b2b6-988d-4171-b59f-4479a7486117",
   "metadata": {},
   "outputs": [
    {
     "name": "stdout",
     "output_type": "stream",
     "text": [
      "[0, 1, 1, 2, 3, 5, 8, 13, 21]\n"
     ]
    }
   ],
   "source": [
    "def fibonacci(n):\n",
    "    fib_seq = []\n",
    "    a, b = 0, 1\n",
    "    for _ in range(n):\n",
    "        fib_seq.append(a)\n",
    "        a, b = b, a + b\n",
    "    return fib_seq\n",
    "print(fibonacci(9))  "
   ]
  },
  {
   "cell_type": "code",
   "execution_count": 39,
   "id": "05382fe4-4814-436d-8b8e-1fdaa204cd5e",
   "metadata": {},
   "outputs": [
    {
     "name": "stdout",
     "output_type": "stream",
     "text": [
      "True\n",
      "True\n"
     ]
    }
   ],
   "source": [
    "def is_palindrome(s):\n",
    "    s = s.replace(\" \", \"\").lower()\n",
    "    return s == s[::-1]\n",
    "print(is_palindrome(\"A man a plan a canal Panama\"))  \n",
    "print(is_palindrome(\"nitin\"))"
   ]
  },
  {
   "cell_type": "code",
   "execution_count": 41,
   "id": "8c9be5e4-4909-4b1d-be86-489784338b90",
   "metadata": {},
   "outputs": [
    {
     "name": "stdout",
     "output_type": "stream",
     "text": [
      "40320\n",
      "1\n"
     ]
    }
   ],
   "source": [
    "def factorial(n: int) -> int:\n",
    "    if n < 0:\n",
    "        raise ValueError(\"Factorial is not defined for negative numbers.\")\n",
    "    result = 1\n",
    "    for i in range(1, n + 1):\n",
    "        result *= i\n",
    "    return result\n",
    "print(factorial(8))  \n",
    "print(factorial(0))  "
   ]
  },
  {
   "cell_type": "code",
   "execution_count": 43,
   "id": "d4a0feaa-4747-49cd-b158-cb29b5d4f217",
   "metadata": {},
   "outputs": [
    {
     "name": "stdout",
     "output_type": "stream",
     "text": [
      "True\n",
      "False\n"
     ]
    }
   ],
   "source": [
    "def is_prime(n: int) -> bool:\n",
    "    if n <= 1:\n",
    "        return False  \n",
    "    for i in range(2, int(n**0.5) + 1):\n",
    "        if n % i == 0:\n",
    "            return False \n",
    "    return True\n",
    "print(is_prime(7))  \n",
    "print(is_prime(16)) "
   ]
  },
  {
   "cell_type": "code",
   "execution_count": 48,
   "id": "83788d8d-f5ed-43ce-89b2-e51956ba7105",
   "metadata": {},
   "outputs": [
    {
     "name": "stdout",
     "output_type": "stream",
     "text": [
      "(12, 9)\n"
     ]
    }
   ],
   "source": [
    "def sum_even_odd(lst):\n",
    "    even_sum = 0\n",
    "    odd_sum = 0\n",
    "    for num in lst:\n",
    "        if num % 2 == 0:\n",
    "            even_sum += num\n",
    "        else:\n",
    "            odd_sum += num\n",
    "    return (even_sum, odd_sum)\n",
    "print(sum_even_odd([1, 2, 3, 4, 5, 6])) "
   ]
  },
  {
   "cell_type": "markdown",
   "id": "0a7cb5f0-7cac-4251-ac2f-1e53ac693003",
   "metadata": {},
   "source": [
    "## 5 problem statement for lamda "
   ]
  },
  {
   "cell_type": "code",
   "execution_count": 52,
   "id": "50d99661-b526-4703-99d6-958fd8ccfc1d",
   "metadata": {},
   "outputs": [
    {
     "name": "stdout",
     "output_type": "stream",
     "text": [
      "7\n"
     ]
    }
   ],
   "source": [
    "add = lambda x, y: x + y\n",
    "print(add(3, 4))  "
   ]
  },
  {
   "cell_type": "code",
   "execution_count": 54,
   "id": "0de77db3-a14c-490c-9a3f-c78b686be94c",
   "metadata": {},
   "outputs": [
    {
     "name": "stdout",
     "output_type": "stream",
     "text": [
      "25\n"
     ]
    }
   ],
   "source": [
    "square = lambda x: x ** 2\n",
    "print(square(5))  "
   ]
  },
  {
   "cell_type": "code",
   "execution_count": 56,
   "id": "7f85cf8e-28f8-4658-bc30-30a4e38c545f",
   "metadata": {},
   "outputs": [
    {
     "name": "stdout",
     "output_type": "stream",
     "text": [
      "[2, 4, 6]\n"
     ]
    }
   ],
   "source": [
    "numbers = [1, 2, 3, 4, 5, 6]\n",
    "even_numbers = list(filter(lambda x: x % 2 == 0, numbers))\n",
    "print(even_numbers) "
   ]
  },
  {
   "cell_type": "code",
   "execution_count": 60,
   "id": "6c3450eb-4843-4efc-9923-25294166976f",
   "metadata": {},
   "outputs": [
    {
     "name": "stdout",
     "output_type": "stream",
     "text": [
      "[(1, 'bus'), (2, 'car'), (3, 'truck')]\n"
     ]
    }
   ],
   "source": [
    "data = [(1, 'bus'), (2, 'car'), (3, 'truck')]\n",
    "sorted_data = sorted(data, key=lambda x: x[1])\n",
    "print(sorted_data) "
   ]
  },
  {
   "cell_type": "code",
   "execution_count": 68,
   "id": "55c56fc2-ba8e-4b26-8b9c-55279104d812",
   "metadata": {},
   "outputs": [
    {
     "name": "stdout",
     "output_type": "stream",
     "text": [
      "{'name': 'Alice', 'score': 85}\n"
     ]
    }
   ],
   "source": [
    "data = [{'name': 'Alice', 'score': 85}, {'name': 'Bob', 'score': 90}, {'name': 'Charlie', 'score': 88}]\n",
    "min_score = min(data, key=lambda x: x['score'])\n",
    "print(min_score) "
   ]
  },
  {
   "cell_type": "code",
   "execution_count": null,
   "id": "aa790b8d-5d87-4ec4-92a2-bde8e6bcd618",
   "metadata": {},
   "outputs": [],
   "source": []
  }
 ],
 "metadata": {
  "kernelspec": {
   "display_name": "Python 3 (ipykernel)",
   "language": "python",
   "name": "python3"
  },
  "language_info": {
   "codemirror_mode": {
    "name": "ipython",
    "version": 3
   },
   "file_extension": ".py",
   "mimetype": "text/x-python",
   "name": "python",
   "nbconvert_exporter": "python",
   "pygments_lexer": "ipython3",
   "version": "3.12.7"
  }
 },
 "nbformat": 4,
 "nbformat_minor": 5
}
