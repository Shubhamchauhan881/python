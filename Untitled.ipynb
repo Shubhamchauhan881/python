{
 "cells": [
  {
   "cell_type": "code",
   "execution_count": null,
   "id": "c759b399-f3d2-4d51-ba0a-20474f399b2c",
   "metadata": {},
   "outputs": [],
   "source": []
  }
 ],
 "metadata": {
  "kernelspec": {
   "display_name": "",
   "name": ""
  },
  "language_info": {
   "name": ""
  }
 },
 "nbformat": 4,
 "nbformat_minor": 5
}
