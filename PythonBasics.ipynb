{
 "cells": [
  {
   "cell_type": "code",
   "execution_count": 1,
   "id": "7ad91cd5-4a36-4886-9d41-7f6d595a00df",
   "metadata": {},
   "outputs": [
    {
     "name": "stdout",
     "output_type": "stream",
     "text": [
      "Jaani\n",
      "13\n"
     ]
    }
   ],
   "source": [
    "print (\"Jaani\")\n",
    "print (5+8)"
   ]
  },
  {
   "cell_type": "markdown",
   "id": "80fd33fe-0d9f-4760-8851-80d946762e32",
   "metadata": {},
   "source": [
    "# Comments\n",
    "## Comments\n",
    "### Comments\n",
    "#### Comments"
   ]
  },
  {
   "cell_type": "code",
   "execution_count": 18,
   "id": "c0c56b18-4356-467c-80f9-ece502d621f0",
   "metadata": {},
   "outputs": [
    {
     "name": "stdout",
     "output_type": "stream",
     "text": [
      "Shubham\n"
     ]
    }
   ],
   "source": [
    "'''\n",
    "This is \n",
    "a multiline\n",
    "comment\n",
    "'''\n",
    "print(\"Shubham\")"
   ]
  },
  {
   "cell_type": "code",
   "execution_count": 24,
   "id": "c56f55d0-726e-4a97-8c69-45d16bab6f86",
   "metadata": {},
   "outputs": [
    {
     "name": "stdout",
     "output_type": "stream",
     "text": [
      "7\n"
     ]
    }
   ],
   "source": [
    "x = 7\n",
    "print (x)"
   ]
  },
  {
   "cell_type": "code",
   "execution_count": 28,
   "id": "48a990b3-b5be-4a67-ae84-79057278bb9a",
   "metadata": {},
   "outputs": [
    {
     "name": "stdout",
     "output_type": "stream",
     "text": [
      "my name is  Shubham\n"
     ]
    }
   ],
   "source": [
    "name = \"Shubham\"\n",
    "print(\"my name is \",name)"
   ]
  },
  {
   "cell_type": "code",
   "execution_count": 27,
   "id": "771b8f4a-33a5-4ad3-83cc-e4f271b4114a",
   "metadata": {},
   "outputs": [
    {
     "name": "stdin",
     "output_type": "stream",
     "text": [
      "Enter your name: Shubham Chauhan\n",
      "Enter your age: 22\n"
     ]
    },
    {
     "name": "stdout",
     "output_type": "stream",
     "text": [
      "my name is Shubham Chauhan and i am 22 year old\n"
     ]
    }
   ],
   "source": [
    "name = input(\"Enter your name:\")\n",
    "age = input (\"Enter your age:\")\n",
    "print(\"my name is\",name,\"and i am\" ,age, \"year old\" )"
   ]
  },
  {
   "cell_type": "code",
   "execution_count": 1,
   "id": "d86a74da-27fd-4ea5-a0c5-4fe41ff8a4f5",
   "metadata": {},
   "outputs": [
    {
     "name": "stdout",
     "output_type": "stream",
     "text": [
      "Area of Circle\n",
      "78.5\n"
     ]
    }
   ],
   "source": [
    "print (\"Area of Circle\")\n",
    "radius = 5\n",
    "pi = 3.14\n",
    "area = pi * radius ** 2\n",
    "print (area)"
   ]
  },
  {
   "cell_type": "code",
   "execution_count": 5,
   "id": "712538a2-0de2-4304-a3b9-c612126eaa5b",
   "metadata": {},
   "outputs": [
    {
     "name": "stdout",
     "output_type": "stream",
     "text": [
      "7\n",
      "8\n",
      "9\n",
      "7 8 9\n"
     ]
    }
   ],
   "source": [
    "x,y,z = 7,8,9\n",
    "print (x)\n",
    "print (y)\n",
    "print (z)\n",
    "print (x,y,z)"
   ]
  },
  {
   "cell_type": "code",
   "execution_count": 9,
   "id": "9b1bd417-9bae-4a99-bbb5-9f6d660781ee",
   "metadata": {},
   "outputs": [
    {
     "name": "stdout",
     "output_type": "stream",
     "text": [
      "100 200 300\n"
     ]
    }
   ],
   "source": [
    "a,b,c = 100,200,300\n",
    "print (a,b,c)"
   ]
  },
  {
   "cell_type": "markdown",
   "id": "739737df-7fa9-45de-970d-af20e47ca93a",
   "metadata": {},
   "source": [
    "# Data type\n",
    "## numeric"
   ]
  },
  {
   "cell_type": "code",
   "execution_count": 12,
   "id": "f78b3a45-9caa-4437-b76f-4fa54c68cc82",
   "metadata": {},
   "outputs": [
    {
     "name": "stdout",
     "output_type": "stream",
     "text": [
      "7\n"
     ]
    },
    {
     "data": {
      "text/plain": [
       "int"
      ]
     },
     "execution_count": 12,
     "metadata": {},
     "output_type": "execute_result"
    }
   ],
   "source": [
    "# int\n",
    "x = 7\n",
    "print(x)\n",
    "type(y)"
   ]
  },
  {
   "cell_type": "code",
   "execution_count": 14,
   "id": "5bb48f73-fba4-40df-a457-a744826c1a23",
   "metadata": {},
   "outputs": [
    {
     "name": "stdout",
     "output_type": "stream",
     "text": [
      "4.3\n"
     ]
    },
    {
     "data": {
      "text/plain": [
       "float"
      ]
     },
     "execution_count": 14,
     "metadata": {},
     "output_type": "execute_result"
    }
   ],
   "source": [
    "y = 4.3\n",
    "print(y)\n",
    "type(y)"
   ]
  },
  {
   "cell_type": "code",
   "execution_count": 26,
   "id": "0bd5e9e9-001f-472c-a004-843ae0de14b8",
   "metadata": {},
   "outputs": [
    {
     "name": "stdout",
     "output_type": "stream",
     "text": [
      "(1+3j)\n"
     ]
    },
    {
     "data": {
      "text/plain": [
       "complex"
      ]
     },
     "execution_count": 26,
     "metadata": {},
     "output_type": "execute_result"
    }
   ],
   "source": [
    "z = 1 + 3j\n",
    "print(z)\n",
    "type(z)"
   ]
  },
  {
   "cell_type": "markdown",
   "id": "c5cc738c-a4e9-4f81-996f-f5235f56cf52",
   "metadata": {},
   "source": [
    "# boolean"
   ]
  },
  {
   "cell_type": "code",
   "execution_count": 29,
   "id": "4b2bde3c-3288-4596-91c2-c5767276ddd2",
   "metadata": {},
   "outputs": [
    {
     "data": {
      "text/plain": [
       "bool"
      ]
     },
     "execution_count": 29,
     "metadata": {},
     "output_type": "execute_result"
    }
   ],
   "source": [
    "a = True\n",
    "type (a)"
   ]
  },
  {
   "cell_type": "code",
   "execution_count": 31,
   "id": "2ab98624-5080-4c2d-a48b-0cafbc487176",
   "metadata": {},
   "outputs": [
    {
     "data": {
      "text/plain": [
       "bool"
      ]
     },
     "execution_count": 31,
     "metadata": {},
     "output_type": "execute_result"
    }
   ],
   "source": [
    "b = False \n",
    "type(b)"
   ]
  },
  {
   "cell_type": "code",
   "execution_count": 33,
   "id": "a74d6296-d52c-4c9b-bd5d-7ca7830b4e9e",
   "metadata": {},
   "outputs": [
    {
     "data": {
      "text/plain": [
       "bool"
      ]
     },
     "execution_count": 33,
     "metadata": {},
     "output_type": "execute_result"
    }
   ],
   "source": [
    "p = 5 < 4\n",
    "type(p)"
   ]
  },
  {
   "cell_type": "code",
   "execution_count": 35,
   "id": "2d2cf980-3585-4c4a-aca6-ae646909c3f6",
   "metadata": {},
   "outputs": [
    {
     "data": {
      "text/plain": [
       "False"
      ]
     },
     "execution_count": 35,
     "metadata": {},
     "output_type": "execute_result"
    }
   ],
   "source": [
    "p"
   ]
  },
  {
   "cell_type": "code",
   "execution_count": 45,
   "id": "192373ea-a416-413d-88f1-f6395a1587f3",
   "metadata": {},
   "outputs": [
    {
     "data": {
      "text/plain": [
       "bool"
      ]
     },
     "execution_count": 45,
     "metadata": {},
     "output_type": "execute_result"
    }
   ],
   "source": [
    "p1 = 3 >9\n",
    "type(p1)"
   ]
  },
  {
   "cell_type": "code",
   "execution_count": 47,
   "id": "e2d6b58e-55bc-4ac2-bda6-e8ba17d94c05",
   "metadata": {},
   "outputs": [
    {
     "data": {
      "text/plain": [
       "False"
      ]
     },
     "execution_count": 47,
     "metadata": {},
     "output_type": "execute_result"
    }
   ],
   "source": [
    "p1"
   ]
  },
  {
   "cell_type": "markdown",
   "id": "ecd6bea9-b34f-469d-b9f9-2f041ac808ca",
   "metadata": {},
   "source": [
    "x = 2 \n",
    "y = 3\n",
    "print (x)\n",
    "print (y)"
   ]
  },
  {
   "cell_type": "markdown",
   "id": "10582ecd-df2f-4307-997a-3ab74051ff42",
   "metadata": {},
   "source": [
    "# Set"
   ]
  },
  {
   "cell_type": "code",
   "execution_count": 61,
   "id": "1180e5d3-e6b6-4a93-92a7-6fea12f7a46b",
   "metadata": {},
   "outputs": [
    {
     "name": "stdout",
     "output_type": "stream",
     "text": [
      "{1, 2, 3}\n"
     ]
    },
    {
     "data": {
      "text/plain": [
       "set"
      ]
     },
     "execution_count": 61,
     "metadata": {},
     "output_type": "execute_result"
    }
   ],
   "source": [
    "s = {1,2,3,1,2,3,1,2,3,}\n",
    "print (s)\n",
    "type (s)\n"
   ]
  },
  {
   "cell_type": "code",
   "execution_count": 79,
   "id": "ee90dff5-0932-4220-a9f5-352f3e880c7b",
   "metadata": {},
   "outputs": [
    {
     "data": {
      "text/plain": [
       "{'sandhya', 'shubham', 'vikas'}"
      ]
     },
     "execution_count": 79,
     "metadata": {},
     "output_type": "execute_result"
    }
   ],
   "source": [
    "s1 = {\"vikas\",\"shubham\",\"sandhya\",\"shubham\"}\n",
    "s1"
   ]
  },
  {
   "cell_type": "code",
   "execution_count": 83,
   "id": "2ec25dc2-0d77-4a5b-ab3d-44c90083128b",
   "metadata": {},
   "outputs": [
    {
     "data": {
      "text/plain": [
       "'shubham'"
      ]
     },
     "execution_count": 83,
     "metadata": {},
     "output_type": "execute_result"
    }
   ],
   "source": [
    "name = (\"shubham\")\n",
    "name"
   ]
  },
  {
   "cell_type": "code",
   "execution_count": 85,
   "id": "9294e63f-cebf-49f3-950f-f248c0fe5f78",
   "metadata": {},
   "outputs": [
    {
     "name": "stdout",
     "output_type": "stream",
     "text": [
      "shubham\n"
     ]
    }
   ],
   "source": [
    "print (name)"
   ]
  },
  {
   "cell_type": "code",
   "execution_count": 87,
   "id": "02c78c72-fca7-4e3c-8dc5-d19912d896b6",
   "metadata": {},
   "outputs": [
    {
     "data": {
      "text/plain": [
       "set()"
      ]
     },
     "execution_count": 87,
     "metadata": {},
     "output_type": "execute_result"
    }
   ],
   "source": [
    "s2 = set()\n",
    "s2"
   ]
  },
  {
   "cell_type": "markdown",
   "id": "09a16800-5166-44ac-b7b6-fc9b0567bc0c",
   "metadata": {},
   "source": [
    "# Dictionary"
   ]
  },
  {
   "cell_type": "code",
   "execution_count": 90,
   "id": "d0a18a4a-515e-4cf9-b494-af7d6e24b761",
   "metadata": {},
   "outputs": [
    {
     "name": "stdout",
     "output_type": "stream",
     "text": [
      "{'aa': 1, 'b': 2, 'c': 3}\n"
     ]
    },
    {
     "data": {
      "text/plain": [
       "dict"
      ]
     },
     "execution_count": 90,
     "metadata": {},
     "output_type": "execute_result"
    }
   ],
   "source": [
    "D = {\"aa\":1, \"b\":2, \"c\":3}\n",
    "print (D)\n",
    "type (D)"
   ]
  },
  {
   "cell_type": "code",
   "execution_count": 92,
   "id": "180e55eb-86be-4622-ab83-8acc42d406fa",
   "metadata": {},
   "outputs": [
    {
     "data": {
      "text/plain": [
       "{'aa': 1, 'b': 2, 'c': 3}"
      ]
     },
     "execution_count": 92,
     "metadata": {},
     "output_type": "execute_result"
    }
   ],
   "source": [
    "D"
   ]
  },
  {
   "cell_type": "code",
   "execution_count": 94,
   "id": "4cf868aa-1433-4df0-9cb9-c4e4cfca2e89",
   "metadata": {},
   "outputs": [
    {
     "data": {
      "text/plain": [
       "dict"
      ]
     },
     "execution_count": 94,
     "metadata": {},
     "output_type": "execute_result"
    }
   ],
   "source": [
    "D1 = {}\n",
    "type (D1)"
   ]
  },
  {
   "cell_type": "code",
   "execution_count": 96,
   "id": "f5cdc29e-efad-4079-90b5-d5b021c0bf1b",
   "metadata": {},
   "outputs": [
    {
     "name": "stdout",
     "output_type": "stream",
     "text": [
      "{'Math': 78, 'Science': 98, 'English': 89}\n"
     ]
    },
    {
     "data": {
      "text/plain": [
       "dict"
      ]
     },
     "execution_count": 96,
     "metadata": {},
     "output_type": "execute_result"
    }
   ],
   "source": [
    "Shubham = {\"Math\":78, \"Science\":98,\"English\":89}\n",
    "print (Shubham)\n",
    "type (Shubham)"
   ]
  },
  {
   "cell_type": "markdown",
   "id": "08a3dd88-37c8-4978-a871-6f02c1ed798f",
   "metadata": {},
   "source": [
    "# Sequence\n",
    "## String"
   ]
  },
  {
   "cell_type": "code",
   "execution_count": 99,
   "id": "459671ad-02f4-48c2-a14a-3de383cb7a13",
   "metadata": {},
   "outputs": [
    {
     "name": "stdout",
     "output_type": "stream",
     "text": [
      "Shubham\n"
     ]
    },
    {
     "data": {
      "text/plain": [
       "str"
      ]
     },
     "execution_count": 99,
     "metadata": {},
     "output_type": "execute_result"
    }
   ],
   "source": [
    "name = \"Shubham\"\n",
    "print (name)\n",
    "type (name)"
   ]
  },
  {
   "cell_type": "code",
   "execution_count": 101,
   "id": "65b19e31-2d4a-400a-a337-dca13733ae55",
   "metadata": {},
   "outputs": [
    {
     "data": {
      "text/plain": [
       "'4th cross road , Nandani Layout, Bengaluru - 560022'"
      ]
     },
     "execution_count": 101,
     "metadata": {},
     "output_type": "execute_result"
    }
   ],
   "source": [
    "Address = \"4th cross road , Nandani Layout, Bengaluru - 560022\"\n",
    "Address"
   ]
  },
  {
   "cell_type": "code",
   "execution_count": 105,
   "id": "5d08740d-27de-4b6e-ac19-798c23f4039b",
   "metadata": {},
   "outputs": [
    {
     "name": "stdout",
     "output_type": "stream",
     "text": [
      "11\n"
     ]
    },
    {
     "data": {
      "text/plain": [
       "str"
      ]
     },
     "execution_count": 105,
     "metadata": {},
     "output_type": "execute_result"
    }
   ],
   "source": [
    "S1 = \"11\" \n",
    "print (S1)\n",
    "type (S1)"
   ]
  },
  {
   "cell_type": "markdown",
   "id": "7d414fd8-6d2f-4fc5-9454-e44161502b62",
   "metadata": {},
   "source": [
    "# list"
   ]
  },
  {
   "cell_type": "code",
   "execution_count": 114,
   "id": "2e4cffb4-b799-4a80-b445-5b50959ef671",
   "metadata": {},
   "outputs": [
    {
     "name": "stdout",
     "output_type": "stream",
     "text": [
      "['apple', 'banana', 'gavava', 'orange', 'peach']\n"
     ]
    },
    {
     "data": {
      "text/plain": [
       "5"
      ]
     },
     "execution_count": 114,
     "metadata": {},
     "output_type": "execute_result"
    }
   ],
   "source": [
    "Fruit_name = [\"apple\",\"banana\",\"gavava\",\"orange\",\"peach\"]\n",
    "print (Fruit_name)\n",
    "type (Fruit_name)\n",
    "len (Fruit_name)"
   ]
  },
  {
   "cell_type": "markdown",
   "id": "39797a2f-4ffb-440d-a2a8-6225931ab245",
   "metadata": {},
   "source": [
    "# tuple"
   ]
  },
  {
   "cell_type": "code",
   "execution_count": 121,
   "id": "8e7842ab-ad94-4dce-8b61-a91f30916e38",
   "metadata": {},
   "outputs": [
    {
     "name": "stdout",
     "output_type": "stream",
     "text": [
      "('shubham', 'Prateek')\n"
     ]
    },
    {
     "data": {
      "text/plain": [
       "2"
      ]
     },
     "execution_count": 121,
     "metadata": {},
     "output_type": "execute_result"
    }
   ],
   "source": [
    "tu=(\"shubham\",\"Prateek\")\n",
    "print (tu)\n",
    "type (tu)\n",
    "len (tu)"
   ]
  },
  {
   "cell_type": "code",
   "execution_count": 123,
   "id": "d1a3bc95-469b-43b9-b995-19d552668dfc",
   "metadata": {},
   "outputs": [
    {
     "data": {
      "text/plain": [
       "('shubham', 'Prateek')"
      ]
     },
     "execution_count": 123,
     "metadata": {},
     "output_type": "execute_result"
    }
   ],
   "source": [
    "tu"
   ]
  },
  {
   "cell_type": "code",
   "execution_count": 101,
   "id": "1fbbdb71-5051-4fe8-aff2-03e7c0ce47e8",
   "metadata": {},
   "outputs": [
    {
     "name": "stdout",
     "output_type": "stream",
     "text": [
      "12968712300000.0\n"
     ]
    }
   ],
   "source": [
    "p = 500\n",
    "r = 20\n",
    "t = 5 \n",
    "n = 2\n",
    "ci = p * (1 + r / n) ** (n * t) - p\n",
    "print(ci)"
   ]
  },
  {
   "cell_type": "code",
   "execution_count": 10,
   "id": "7e765379-d056-424b-89a3-23381ec5a49b",
   "metadata": {},
   "outputs": [
    {
     "name": "stdin",
     "output_type": "stream",
     "text": [
      "enter radius 45\n"
     ]
    },
    {
     "name": "stdout",
     "output_type": "stream",
     "text": [
      "Area of the circle: 6358.5\n"
     ]
    }
   ],
   "source": [
    "radius = float (input(\"enter radius\"))\n",
    "pi = 3.14\n",
    "area = pi * radius **  2 \n",
    "print ( \"Area of the circle:\",area)"
   ]
  },
  {
   "cell_type": "code",
   "execution_count": 12,
   "id": "72a0c6ce-5a29-437e-98ea-204d5eccb100",
   "metadata": {},
   "outputs": [
    {
     "data": {
      "text/plain": [
       "6358.5"
      ]
     },
     "execution_count": 12,
     "metadata": {},
     "output_type": "execute_result"
    }
   ],
   "source": [
    "round (area,2)"
   ]
  },
  {
   "cell_type": "code",
   "execution_count": 14,
   "id": "d41028f7-453d-4182-b4fb-766f76835571",
   "metadata": {},
   "outputs": [
    {
     "name": "stdout",
     "output_type": "stream",
     "text": [
      "range(0, 5)\n",
      "5\n"
     ]
    },
    {
     "data": {
      "text/plain": [
       "range"
      ]
     },
     "execution_count": 14,
     "metadata": {},
     "output_type": "execute_result"
    }
   ],
   "source": [
    "r1 = range(5)\n",
    "print (r1)\n",
    "print(len(r1))\n",
    "type(r1)"
   ]
  },
  {
   "cell_type": "code",
   "execution_count": 16,
   "id": "b35a0f0c-0598-469b-9f7c-e5b4a499f7e6",
   "metadata": {},
   "outputs": [
    {
     "name": "stdout",
     "output_type": "stream",
     "text": [
      "range(2, 10)\n",
      "8\n"
     ]
    }
   ],
   "source": [
    "r2 = range (2,10)\n",
    "print(r2)\n",
    "print(len(r2))\n"
   ]
  },
  {
   "cell_type": "code",
   "execution_count": 32,
   "id": "30b8a1f7-643a-419a-9dc4-0bdc4f83a05b",
   "metadata": {},
   "outputs": [
    {
     "name": "stdout",
     "output_type": "stream",
     "text": [
      "range(1, 21, 4)\n",
      "5\n"
     ]
    }
   ],
   "source": [
    "r3 = range(1,21,4)\n",
    "print(r3)\n",
    "print(len(r3))"
   ]
  },
  {
   "cell_type": "code",
   "execution_count": 50,
   "id": "cc9445b7-745d-4a0a-9be3-974b8c8b78cb",
   "metadata": {},
   "outputs": [
    {
     "name": "stdout",
     "output_type": "stream",
     "text": [
      "Area of Circle\n",
      "78.5\n",
      "True\n"
     ]
    }
   ],
   "source": [
    "print (\"Area of Circle\")\n",
    "radius = 5\n",
    "pi = 3.14\n",
    "area = pi * radius ** 2\n",
    "print (area)\n",
    "print (area > 50)"
   ]
  },
  {
   "cell_type": "markdown",
   "id": "1058d07b-392f-4b36-b37d-ccb4602d2a15",
   "metadata": {},
   "source": [
    "# logic operators \n",
    "### * used to combine conditional statments\n",
    "### * and\n",
    "### * or \n",
    "### * not "
   ]
  },
  {
   "cell_type": "code",
   "execution_count": 58,
   "id": "723a8a4c-ab1d-4b07-8442-709c135999d9",
   "metadata": {},
   "outputs": [
    {
     "name": "stdout",
     "output_type": "stream",
     "text": [
      "False\n",
      "True\n"
     ]
    }
   ],
   "source": [
    "a = True\n",
    "b = False\n",
    "print (a and b)\n",
    "print (a or b)"
   ]
  },
  {
   "cell_type": "markdown",
   "id": "63fc9ff5-4fc7-459b-a996-f729e72b77ad",
   "metadata": {},
   "source": [
    "# Assignment for practice "
   ]
  },
  {
   "cell_type": "code",
   "execution_count": 17,
   "id": "b9b192f2-79c7-4fc4-b013-87bf7f439fa1",
   "metadata": {},
   "outputs": [
    {
     "name": "stdout",
     "output_type": "stream",
     "text": [
      "501\n"
     ]
    }
   ],
   "source": [
    "a= 123\n",
    "b=456\n",
    "c=78\n",
    "result= a + b - c\n",
    "print(result) "
   ]
  },
  {
   "cell_type": "code",
   "execution_count": 19,
   "id": "b33eb5d0-538d-42b2-8416-da8ab9191b0f",
   "metadata": {},
   "outputs": [
    {
     "name": "stdout",
     "output_type": "stream",
     "text": [
      "1000\n"
     ]
    }
   ],
   "source": [
    "a = 25\n",
    "b = 40\n",
    "result= a * b\n",
    "print (result)"
   ]
  },
  {
   "cell_type": "code",
   "execution_count": 21,
   "id": "1eb60368-8e45-4b5e-a17e-6c75bb49bddd",
   "metadata": {},
   "outputs": [
    {
     "name": "stdout",
     "output_type": "stream",
     "text": [
      "Quotient: 62\n",
      "Remainder: 4\n"
     ]
    }
   ],
   "source": [
    "a = 500\n",
    "b = 8\n",
    "quotient = a // b  \n",
    "remainder = a % b  \n",
    "print(\"Quotient:\", quotient)\n",
    "print(\"Remainder:\", remainder)"
   ]
  },
  {
   "cell_type": "code",
   "execution_count": 24,
   "id": "611e027c-6a5e-4998-9ab2-0bfd6f04eafd",
   "metadata": {},
   "outputs": [
    {
     "name": "stdout",
     "output_type": "stream",
     "text": [
      "9.0\n"
     ]
    }
   ],
   "source": [
    "a = 45.6\n",
    "b = 5 \n",
    "result = 45.5 // 5\n",
    "print (result)"
   ]
  },
  {
   "cell_type": "code",
   "execution_count": 26,
   "id": "8b58d872-5bd2-4eb6-91f5-bcaad27c6b3f",
   "metadata": {},
   "outputs": [
    {
     "name": "stdout",
     "output_type": "stream",
     "text": [
      "1683941953091573505989403773953024\n"
     ]
    }
   ],
   "source": [
    "a = 2102\n",
    "result= a ** 10\n",
    "print (result)"
   ]
  },
  {
   "cell_type": "code",
   "execution_count": 32,
   "id": "4964b947-5128-4c43-b82c-28de10ae6488",
   "metadata": {},
   "outputs": [
    {
     "name": "stdout",
     "output_type": "stream",
     "text": [
      "Yes\n"
     ]
    }
   ],
   "source": [
    "a = 525\n",
    "b = 7\n",
    "if 525 % 7 == 0:\n",
    "    print(\"Yes\")\n",
    "else:\n",
    "    print(\"No\")"
   ]
  },
  {
   "cell_type": "code",
   "execution_count": 36,
   "id": "a30fc1e1-3239-4054-87bf-5bbdef348497",
   "metadata": {},
   "outputs": [
    {
     "name": "stdout",
     "output_type": "stream",
     "text": [
      "55.0\n"
     ]
    }
   ],
   "source": [
    "answer = (25 + 5) * 2 - 10 / 2\n",
    "print(answer)"
   ]
  },
  {
   "cell_type": "markdown",
   "id": "2a540a23-08e2-4a41-bf8f-6903a117e027",
   "metadata": {},
   "source": [
    "# List method"
   ]
  },
  {
   "cell_type": "code",
   "execution_count": 2,
   "id": "0f92beca-dceb-4878-8020-f9f23ee1bef8",
   "metadata": {},
   "outputs": [
    {
     "data": {
      "text/plain": [
       "[1, 2, 'a', 'b']"
      ]
     },
     "execution_count": 2,
     "metadata": {},
     "output_type": "execute_result"
    }
   ],
   "source": [
    "li = [1,2,\"a\",\"b\"]\n",
    "li"
   ]
  },
  {
   "cell_type": "code",
   "execution_count": 4,
   "id": "df983506-9e41-4a0e-bcb9-bf065159a624",
   "metadata": {},
   "outputs": [
    {
     "data": {
      "text/plain": [
       "[1, 2, 'a', 'b', 'chocolate']"
      ]
     },
     "execution_count": 4,
     "metadata": {},
     "output_type": "execute_result"
    }
   ],
   "source": [
    "li.append(\"chocolate\")\n",
    "li"
   ]
  },
  {
   "cell_type": "code",
   "execution_count": 8,
   "id": "76f0d4cc-bd25-4cfd-aa48-b16c40c7c174",
   "metadata": {},
   "outputs": [
    {
     "data": {
      "text/plain": [
       "[1, 2, 'a', 'b', 'chocolate', 'mango', 'strawberry', 'guava']"
      ]
     },
     "execution_count": 8,
     "metadata": {},
     "output_type": "execute_result"
    }
   ],
   "source": [
    "li.extend([\"mango\",\"strawberry\",\"guava\"])\n",
    "li"
   ]
  },
  {
   "cell_type": "code",
   "execution_count": 10,
   "id": "7b69dc75-9ab7-4255-9b61-4bd8760c5e39",
   "metadata": {},
   "outputs": [
    {
     "data": {
      "text/plain": [
       "[1, 2, 'a', 'b', 'chocolate', 'dairymilk', 'mango', 'strawberry', 'guava']"
      ]
     },
     "execution_count": 10,
     "metadata": {},
     "output_type": "execute_result"
    }
   ],
   "source": [
    "li.insert(5,\"dairymilk\")\n",
    "li"
   ]
  },
  {
   "cell_type": "markdown",
   "id": "98bb565a-ca41-4864-8b39-2f2e39236d34",
   "metadata": {},
   "source": [
    "# grocery list"
   ]
  },
  {
   "cell_type": "code",
   "execution_count": 35,
   "id": "3ebcf52a-70cd-4581-88e0-8fb65992536d",
   "metadata": {},
   "outputs": [
    {
     "data": {
      "text/plain": [
       "['oil', 'salt', 'rice']"
      ]
     },
     "execution_count": 35,
     "metadata": {},
     "output_type": "execute_result"
    }
   ],
   "source": [
    "grocery = [\"oil\",\"salt\",\"rice\"]\n",
    "grocery"
   ]
  },
  {
   "cell_type": "code",
   "execution_count": 37,
   "id": "01658677-3afa-4a5a-84b7-08b3dd1a1a42",
   "metadata": {},
   "outputs": [
    {
     "data": {
      "text/plain": [
       "['oil', 'salt', 'rice', 'sugar']"
      ]
     },
     "execution_count": 37,
     "metadata": {},
     "output_type": "execute_result"
    }
   ],
   "source": [
    "grocery.append(\"sugar\")\n",
    "grocery"
   ]
  },
  {
   "cell_type": "code",
   "execution_count": 39,
   "id": "d953f9da-a9ff-4313-87e9-da1b5bb90ced",
   "metadata": {},
   "outputs": [
    {
     "data": {
      "text/plain": [
       "['oil', 'salt', 'rice', 'sugar', 'masala', 'soap', 'comfort']"
      ]
     },
     "execution_count": 39,
     "metadata": {},
     "output_type": "execute_result"
    }
   ],
   "source": [
    "grocery.extend([\"masala\",\"soap\",\"comfort\"])\n",
    "grocery"
   ]
  },
  {
   "cell_type": "code",
   "execution_count": 41,
   "id": "d75aaa8e-5277-45d0-aafa-78abbffdcdf7",
   "metadata": {},
   "outputs": [
    {
     "data": {
      "text/plain": [
       "['oil',\n",
       " 'salt',\n",
       " 'detergent powder',\n",
       " 'rice',\n",
       " 'sugar',\n",
       " 'masala',\n",
       " 'soap',\n",
       " 'comfort']"
      ]
     },
     "execution_count": 41,
     "metadata": {},
     "output_type": "execute_result"
    }
   ],
   "source": [
    "grocery.insert(2,\"detergent powder\")\n",
    "grocery"
   ]
  },
  {
   "cell_type": "code",
   "execution_count": 43,
   "id": "ecc67296-1ac5-4fa2-a90a-b3bbe903ce0f",
   "metadata": {},
   "outputs": [
    {
     "name": "stdout",
     "output_type": "stream",
     "text": [
      "['oil', 'salt', 'detergent powder', 'rice', 'sugar', 'masala', 'soap', 'comfort']\n"
     ]
    }
   ],
   "source": [
    "print (grocery) "
   ]
  },
  {
   "cell_type": "code",
   "execution_count": 45,
   "id": "8f26e1f8-391a-41a6-97e1-86f449bab923",
   "metadata": {},
   "outputs": [
    {
     "name": "stdout",
     "output_type": "stream",
     "text": [
      "['salt', 'detergent powder', 'rice', 'sugar', 'masala', 'soap', 'comfort']\n"
     ]
    }
   ],
   "source": [
    "grocery.remove(\"oil\")\n",
    "print(grocery)"
   ]
  },
  {
   "cell_type": "code",
   "execution_count": 47,
   "id": "f5c286d7-f17b-4669-a467-e9ee2017cb24",
   "metadata": {},
   "outputs": [
    {
     "data": {
      "text/plain": [
       "['salt', 'detergent powder', 'rice', 'masala', 'soap', 'comfort']"
      ]
     },
     "execution_count": 47,
     "metadata": {},
     "output_type": "execute_result"
    }
   ],
   "source": [
    "grocery.pop(3)\n",
    "grocery"
   ]
  },
  {
   "cell_type": "code",
   "execution_count": 49,
   "id": "71ea7a86-c330-4335-8754-d62f0c09b28a",
   "metadata": {},
   "outputs": [
    {
     "data": {
      "text/plain": [
       "['salt', 'detergent powder', 'rice', 'soap', 'comfort']"
      ]
     },
     "execution_count": 49,
     "metadata": {},
     "output_type": "execute_result"
    }
   ],
   "source": [
    "del grocery[3]\n",
    "grocery"
   ]
  },
  {
   "cell_type": "code",
   "execution_count": 51,
   "id": "ebba87b5-1790-40e5-b2c9-93f81e422fef",
   "metadata": {},
   "outputs": [
    {
     "data": {
      "text/plain": [
       "[]"
      ]
     },
     "execution_count": 51,
     "metadata": {},
     "output_type": "execute_result"
    }
   ],
   "source": [
    "grocery.clear()\n",
    "grocery"
   ]
  },
  {
   "cell_type": "code",
   "execution_count": 55,
   "id": "7ad3198f-bcdb-46a8-83b7-d40330384e3a",
   "metadata": {},
   "outputs": [
    {
     "name": "stdout",
     "output_type": "stream",
     "text": [
      "12\n"
     ]
    },
    {
     "data": {
      "text/plain": [
       "str"
      ]
     },
     "execution_count": 55,
     "metadata": {},
     "output_type": "execute_result"
    }
   ],
   "source": [
    "x = \"12\"\n",
    "print(x)\n",
    "type(x)"
   ]
  },
  {
   "cell_type": "code",
   "execution_count": 57,
   "id": "da0d27f1-5f70-4ac5-8649-b22f351aabcf",
   "metadata": {},
   "outputs": [
    {
     "name": "stdout",
     "output_type": "stream",
     "text": [
      "12.0\n"
     ]
    },
    {
     "data": {
      "text/plain": [
       "float"
      ]
     },
     "execution_count": 57,
     "metadata": {},
     "output_type": "execute_result"
    }
   ],
   "source": [
    "y = float(x)\n",
    "print(y)\n",
    "type(y)"
   ]
  },
  {
   "cell_type": "code",
   "execution_count": 61,
   "id": "7881f67b-3ee9-4e88-a5f3-abfaa8a5910e",
   "metadata": {},
   "outputs": [
    {
     "data": {
      "text/plain": [
       "'this is one sentence'"
      ]
     },
     "execution_count": 61,
     "metadata": {},
     "output_type": "execute_result"
    }
   ],
   "source": [
    "sentence = \"this is one sentence\"\n",
    "sentence"
   ]
  },
  {
   "cell_type": "code",
   "execution_count": 65,
   "id": "8c872048-f722-4026-838a-c3017249b79c",
   "metadata": {},
   "outputs": [
    {
     "data": {
      "text/plain": [
       "8"
      ]
     },
     "execution_count": 65,
     "metadata": {},
     "output_type": "execute_result"
    }
   ],
   "source": [
    "sentence.index('o')"
   ]
  },
  {
   "cell_type": "code",
   "execution_count": 81,
   "id": "d920628d-bc6e-49d8-9651-7d9738fdbc37",
   "metadata": {},
   "outputs": [
    {
     "data": {
      "text/plain": [
       "'one'"
      ]
     },
     "execution_count": 81,
     "metadata": {},
     "output_type": "execute_result"
    }
   ],
   "source": [
    "sentence[8:11]"
   ]
  },
  {
   "cell_type": "code",
   "execution_count": 99,
   "id": "aca6178d-f495-4229-bb07-e3655b4199c4",
   "metadata": {},
   "outputs": [
    {
     "name": "stdout",
     "output_type": "stream",
     "text": [
      "Shubham Chauhan\n"
     ]
    }
   ],
   "source": [
    "intro = \"my name is Shubham Chauhan\"\n",
    "first_name = intro [ 11:18]\n",
    "second_name = intro[19:]\n",
    "full_name = first_name + ' ' + second_name\n",
    "print (full_name)"
   ]
  },
  {
   "cell_type": "code",
   "execution_count": 3,
   "id": "b42f3e80-afd4-487e-b427-0d0f909103ae",
   "metadata": {},
   "outputs": [
    {
     "name": "stdout",
     "output_type": "stream",
     "text": [
      "shubham chauhan\n"
     ]
    }
   ],
   "source": [
    "text = \"my name is shubham chauhan\"\n",
    "firstname = text [ 11: 18 ]\n",
    "secondname = text [ 19:]\n",
    "fullname = firstname + \" \" + secondname\n",
    "print(fullname)"
   ]
  },
  {
   "cell_type": "code",
   "execution_count": 13,
   "id": "0bba0103-3b19-4566-bcdd-f06401171f41",
   "metadata": {},
   "outputs": [
    {
     "data": {
      "text/plain": [
       "12"
      ]
     },
     "execution_count": 13,
     "metadata": {},
     "output_type": "execute_result"
    }
   ],
   "source": [
    "text.index(\"h\")"
   ]
  },
  {
   "cell_type": "code",
   "execution_count": 15,
   "id": "ddc8efd6-8048-4e31-a533-0e544990ccc2",
   "metadata": {},
   "outputs": [
    {
     "data": {
      "text/plain": [
       "12"
      ]
     },
     "execution_count": 15,
     "metadata": {},
     "output_type": "execute_result"
    }
   ],
   "source": [
    "text.index(\"h\")"
   ]
  },
  {
   "cell_type": "code",
   "execution_count": 21,
   "id": "e32aabf4-8190-47d0-899c-b13b1aa55dc2",
   "metadata": {},
   "outputs": [
    {
     "name": "stdin",
     "output_type": "stream",
     "text": [
      "Enter a number:  64\n"
     ]
    },
    {
     "name": "stdout",
     "output_type": "stream",
     "text": [
      "The number is even.\n"
     ]
    }
   ],
   "source": [
    "num = int(input(\"Enter a number: \"))\n",
    "if num % 2 == 0:\n",
    "    print(\"The number is even.\")\n",
    "else:\n",
    "    print(\"The numberis odd.\")\n"
   ]
  },
  {
   "cell_type": "code",
   "execution_count": 32,
   "id": "6eeb1327-d75a-4386-91ae-18f700e0937d",
   "metadata": {},
   "outputs": [
    {
     "name": "stdout",
     "output_type": "stream",
     "text": [
      "x is largest\n"
     ]
    }
   ],
   "source": [
    "x =25\n",
    "y = 15\n",
    "z = 20\n",
    "if x > y:\n",
    "    if x > z:\n",
    "        print(\"x is largest\")\n",
    "    else:\n",
    "        print(\"z is largest\")\n",
    "else:\n",
    "    if y > z:\n",
    "        print(\"y is largest\")\n",
    "    else:\n",
    "        print(\"z is largest\")"
   ]
  },
  {
   "cell_type": "code",
   "execution_count": 15,
   "id": "3e3cce4b-8c01-41e2-8b9b-7572628ff932",
   "metadata": {},
   "outputs": [
    {
     "name": "stdout",
     "output_type": "stream",
     "text": [
      "s bda h\n"
     ]
    }
   ],
   "source": [
    "s = 18\n",
    "p = 11\n",
    "l = 15\n",
    "if s > p and s > l:\n",
    "    print (\"s bda h\")\n",
    "elif p > l:\n",
    "    print (\"p bda h\")\n",
    "else:\n",
    "    print(\"l bda hai\")"
   ]
  },
  {
   "cell_type": "code",
   "execution_count": 1,
   "id": "a974bd4d-25d5-43e6-a9e0-5490fae4c956",
   "metadata": {},
   "outputs": [
    {
     "name": "stdin",
     "output_type": "stream",
     "text": [
      "enter a number 5\n"
     ]
    },
    {
     "name": "stdout",
     "output_type": "stream",
     "text": [
      "5X1=5\n",
      "5X2=10\n",
      "5X3=15\n",
      "5X4=20\n",
      "5X5=25\n",
      "5X6=30\n",
      "5X7=35\n",
      "5X8=40\n",
      "5X9=45\n",
      "5X10=50\n"
     ]
    }
   ],
   "source": [
    "i = int(input(\"enter a number\"))\n",
    "n = 1\n",
    "while n <= 10:\n",
    "    print(f\"{i}X{n}={i*n}\")\n",
    "    n += 1\n"
   ]
  },
  {
   "cell_type": "code",
   "execution_count": 3,
   "id": "5a7093a3-5c7a-484b-93f0-f2cfe09d463a",
   "metadata": {},
   "outputs": [
    {
     "name": "stdout",
     "output_type": "stream",
     "text": [
      "Cube of 1 is 1\n",
      "Cube of 2 is 8\n",
      "Cube of 3 is 27\n",
      "Cube of 4 is 64\n",
      "Cube of 5 is 125\n",
      "Cube of 6 is 216\n",
      "Cube of 7 is 343\n",
      "Cube of 8 is 512\n",
      "Cube of 9 is 729\n",
      "Cube of 10 is 1000\n",
      "Cube of 11 is 1331\n",
      "Cube of 12 is 1728\n",
      "Cube of 13 is 2197\n",
      "Cube of 14 is 2744\n",
      "Cube of 15 is 3375\n",
      "Cube of 16 is 4096\n",
      "Cube of 17 is 4913\n",
      "Cube of 18 is 5832\n",
      "Cube of 19 is 6859\n",
      "Cube of 20 is 8000\n"
     ]
    }
   ],
   "source": [
    "n = 1\n",
    "while n <= 20:\n",
    "    print(f\"Cube of {n} is {n ** 3}\")\n",
    "    n += 1"
   ]
  },
  {
   "cell_type": "code",
   "execution_count": 15,
   "id": "7f52eb09-0827-4d91-b30f-30489c8e2743",
   "metadata": {},
   "outputs": [
    {
     "name": "stdout",
     "output_type": "stream",
     "text": [
      "square of 1 is 1\n",
      "Cube of 2 is 8\n",
      "square of 3 is 9\n",
      "Cube of 4 is 64\n",
      "square of 5 is 25\n",
      "Cube of 6 is 216\n",
      "square of 7 is 49\n",
      "Cube of 8 is 512\n",
      "square of 9 is 81\n",
      "Cube of 10 is 1000\n",
      "square of 11 is 121\n",
      "Cube of 12 is 1728\n",
      "square of 13 is 169\n",
      "Cube of 14 is 2744\n",
      "square of 15 is 225\n",
      "Cube of 16 is 4096\n",
      "square of 17 is 289\n",
      "Cube of 18 is 5832\n",
      "square of 19 is 361\n",
      "Cube of 20 is 8000\n",
      "square of 21 is 441\n",
      "Cube of 22 is 10648\n",
      "square of 23 is 529\n",
      "Cube of 24 is 13824\n",
      "square of 25 is 625\n",
      "Cube of 26 is 17576\n",
      "square of 27 is 729\n",
      "Cube of 28 is 21952\n",
      "square of 29 is 841\n",
      "Cube of 30 is 27000\n",
      "square of 31 is 961\n",
      "Cube of 32 is 32768\n",
      "square of 33 is 1089\n",
      "Cube of 34 is 39304\n",
      "square of 35 is 1225\n",
      "Cube of 36 is 46656\n",
      "square of 37 is 1369\n",
      "Cube of 38 is 54872\n",
      "square of 39 is 1521\n",
      "Cube of 40 is 64000\n",
      "square of 41 is 1681\n",
      "Cube of 42 is 74088\n",
      "square of 43 is 1849\n",
      "Cube of 44 is 85184\n",
      "square of 45 is 2025\n",
      "Cube of 46 is 97336\n",
      "square of 47 is 2209\n",
      "Cube of 48 is 110592\n",
      "square of 49 is 2401\n",
      "Cube of 50 is 125000\n"
     ]
    }
   ],
   "source": [
    "n = 0\n",
    "while n < 50:\n",
    "    n += 1\n",
    "    if n % 2 == 0:\n",
    "        print(f\"Cube of {n} is {n ** 3}\")\n",
    "    else:\n",
    "        print(f\"square of {n} is {n ** 2}\")"
   ]
  },
  {
   "cell_type": "code",
   "execution_count": 9,
   "id": "d83f998e-0bfd-4374-ad3b-146b4c413230",
   "metadata": {},
   "outputs": [
    {
     "name": "stdout",
     "output_type": "stream",
     "text": [
      "Square of 1 is 1\n",
      "Cube of 2 is 8\n",
      "Square of 3 is 9\n",
      "Cube of 4 is 64\n",
      "Square of 5 is 25\n",
      "Cube of 6 is 216\n",
      "Square of 7 is 49\n",
      "Cube of 8 is 512\n",
      "Square of 9 is 81\n",
      "Cube of 10 is 1000\n",
      "Square of 11 is 121\n",
      "Cube of 12 is 1728\n",
      "Square of 13 is 169\n",
      "Cube of 14 is 2744\n",
      "Square of 15 is 225\n",
      "Cube of 16 is 4096\n",
      "Square of 17 is 289\n",
      "Cube of 18 is 5832\n",
      "Square of 19 is 361\n",
      "Cube of 20 is 8000\n",
      "Square of 21 is 441\n",
      "Cube of 22 is 10648\n",
      "Square of 23 is 529\n",
      "Cube of 24 is 13824\n",
      "Square of 25 is 625\n",
      "Cube of 26 is 17576\n",
      "Square of 27 is 729\n",
      "Cube of 28 is 21952\n",
      "Square of 29 is 841\n",
      "Cube of 30 is 27000\n",
      "Square of 31 is 961\n",
      "Cube of 32 is 32768\n",
      "Square of 33 is 1089\n",
      "Cube of 34 is 39304\n",
      "Square of 35 is 1225\n",
      "Cube of 36 is 46656\n",
      "Square of 37 is 1369\n",
      "Cube of 38 is 54872\n",
      "Square of 39 is 1521\n",
      "Cube of 40 is 64000\n",
      "Square of 41 is 1681\n",
      "Cube of 42 is 74088\n",
      "Square of 43 is 1849\n",
      "Cube of 44 is 85184\n",
      "Square of 45 is 2025\n",
      "Cube of 46 is 97336\n",
      "Square of 47 is 2209\n",
      "Cube of 48 is 110592\n",
      "Square of 49 is 2401\n",
      "Cube of 50 is 125000\n"
     ]
    }
   ],
   "source": [
    "n = 0\n",
    "while n < 50:\n",
    "    n += 1\n",
    "    if n % 2 == 0:\n",
    "        print(f\"Cube of {n} is {n ** 3}\")\n",
    "    else:\n",
    "        print(f\"Square of {n} is {n ** 2}\")"
   ]
  },
  {
   "cell_type": "code",
   "execution_count": 21,
   "id": "4a0aa3d2-f201-4489-9d37-d9c295c86225",
   "metadata": {},
   "outputs": [
    {
     "name": "stdout",
     "output_type": "stream",
     "text": [
      "s\n",
      "h\n",
      "b\n",
      "h\n",
      "m\n"
     ]
    }
   ],
   "source": [
    "li = ['a', 'e', 'i', 'o', 'u']\n",
    "text = \"shubham\"\n",
    "for char in text:\n",
    "    if char not in li:\n",
    "        print(char)"
   ]
  },
  {
   "cell_type": "code",
   "execution_count": 25,
   "id": "06283f72-96d9-43a2-b7ce-a395738c84f6",
   "metadata": {},
   "outputs": [
    {
     "name": "stdout",
     "output_type": "stream",
     "text": [
      "['3', '9', '10']\n"
     ]
    }
   ],
   "source": [
    "a = [\"2\", \"3\", \"7\", \"9\", \"1\", \"10\"]\n",
    "b = []\n",
    "for i in range(1, len(a), 2):\n",
    "    b.append(a[i])\n",
    "print(b)"
   ]
  },
  {
   "cell_type": "code",
   "execution_count": 43,
   "id": "f6025dfe-1c64-498f-a0d8-aef0a589746e",
   "metadata": {},
   "outputs": [
    {
     "name": "stdout",
     "output_type": "stream",
     "text": [
      "22\n"
     ]
    }
   ],
   "source": [
    "a = [\"2\", \"3\", \"7\", \"9\", \"1\", \"10\"]\n",
    "b = []\n",
    "for i in range(1, len(a), 2):\n",
    "    b.append(a[i])\n",
    "sum_b = 0\n",
    "for element in b:\n",
    "    sum_b += int(element) \n",
    "\n",
    "print(sum_b)"
   ]
  },
  {
   "cell_type": "code",
   "execution_count": 11,
   "id": "6c04b8c0-8dc4-4eaa-bad6-ff969c27fb59",
   "metadata": {},
   "outputs": [
    {
     "data": {
      "text/plain": [
       "367453.125"
      ]
     },
     "execution_count": 11,
     "metadata": {},
     "output_type": "execute_result"
    }
   ],
   "source": [
    "def ci(p,r,t,n):\n",
    "    amount = p * (1 + r / n) ** (n * t) - p\n",
    "    return amount\n",
    "ci(200,5,3,2)"
   ]
  },
  {
   "cell_type": "markdown",
   "id": "de75732b-b913-41b5-862c-59f7b3f23ddf",
   "metadata": {},
   "source": [
    "## Built-in module"
   ]
  },
  {
   "cell_type": "code",
   "execution_count": 2,
   "id": "314a24c3-b9db-445b-9864-85b10b0e9ed8",
   "metadata": {},
   "outputs": [
    {
     "name": "stdout",
     "output_type": "stream",
     "text": [
      "2025-01-02 11:28:41.989295\n",
      "2025\n",
      "Thursday\n"
     ]
    }
   ],
   "source": [
    "import datetime\n",
    "time_now = datetime.datetime.now()\n",
    "print(time_now)\n",
    "print(time_now.year)\n",
    "print(time_now.strftime(\"%A\"))"
   ]
  },
  {
   "cell_type": "code",
   "execution_count": 6,
   "id": "ac03a724-8400-4827-a906-e409cb9a89d9",
   "metadata": {},
   "outputs": [
    {
     "name": "stdout",
     "output_type": "stream",
     "text": [
      "125.0\n"
     ]
    }
   ],
   "source": [
    "import math\n",
    "result = math.pow(5, 3)\n",
    "print(result)"
   ]
  },
  {
   "cell_type": "code",
   "execution_count": 10,
   "id": "d7d6fc62-35c0-4b28-a0cc-46ee1b98acd4",
   "metadata": {},
   "outputs": [
    {
     "name": "stdout",
     "output_type": "stream",
     "text": [
      "1\n"
     ]
    }
   ],
   "source": [
    "import random\n",
    "random_integer = random.randint(1,6)\n",
    "print(random_integer)"
   ]
  },
  {
   "cell_type": "code",
   "execution_count": 14,
   "id": "bb58de93-f939-4d6a-a4bc-97508840b7a0",
   "metadata": {},
   "outputs": [
    {
     "name": "stdout",
     "output_type": "stream",
     "text": [
      "3\n"
     ]
    }
   ],
   "source": [
    "random_number = random.randrange(9)\n",
    "print(random_number)"
   ]
  },
  {
   "cell_type": "code",
   "execution_count": 16,
   "id": "2d9f3340-382c-4032-82e0-f7279c0eebf2",
   "metadata": {},
   "outputs": [
    {
     "data": {
      "text/plain": [
       "'head'"
      ]
     },
     "execution_count": 16,
     "metadata": {},
     "output_type": "execute_result"
    }
   ],
   "source": [
    "toss = [\"head\",\"tail\"]\n",
    "random.choice(toss)"
   ]
  },
  {
   "cell_type": "code",
   "execution_count": 1,
   "id": "427381a0-ec0b-4508-be4e-ae3447815195",
   "metadata": {},
   "outputs": [],
   "source": [
    "import mymodule"
   ]
  },
  {
   "cell_type": "code",
   "execution_count": 3,
   "id": "891d89dd-8567-46ef-baf4-a35796d05dac",
   "metadata": {},
   "outputs": [
    {
     "name": "stdout",
     "output_type": "stream",
     "text": [
      "good morning shubham\n"
     ]
    }
   ],
   "source": [
    "mymodule.greeting(\"shubham\")"
   ]
  },
  {
   "cell_type": "code",
   "execution_count": 5,
   "id": "34541729-cb3b-427a-a056-7ff2676fd7b2",
   "metadata": {},
   "outputs": [
    {
     "name": "stdout",
     "output_type": "stream",
     "text": [
      "bbye shubham\n"
     ]
    }
   ],
   "source": [
    "mymodule.say_bye(\"shubham\")"
   ]
  },
  {
   "cell_type": "code",
   "execution_count": 7,
   "id": "34f2a174-34c4-4586-9adb-04663bf22c5a",
   "metadata": {},
   "outputs": [
    {
     "data": {
      "text/plain": [
       "20"
      ]
     },
     "execution_count": 7,
     "metadata": {},
     "output_type": "execute_result"
    }
   ],
   "source": [
    "mymodule.sum(10,10)"
   ]
  },
  {
   "cell_type": "code",
   "execution_count": 3,
   "id": "bc7679e9-8a5c-449b-9c75-fe77e107fc35",
   "metadata": {},
   "outputs": [],
   "source": [
    "import jaani as ja"
   ]
  },
  {
   "cell_type": "code",
   "execution_count": 5,
   "id": "8c403651-08b4-42d3-96f3-ea5d058440cd",
   "metadata": {},
   "outputs": [
    {
     "data": {
      "text/plain": [
       "14"
      ]
     },
     "execution_count": 5,
     "metadata": {},
     "output_type": "execute_result"
    }
   ],
   "source": [
    "ja.add(5,9)"
   ]
  },
  {
   "cell_type": "code",
   "execution_count": 7,
   "id": "9549b0c1-7977-4776-becd-2cef05ee1d37",
   "metadata": {},
   "outputs": [
    {
     "data": {
      "text/plain": [
       "3"
      ]
     },
     "execution_count": 7,
     "metadata": {},
     "output_type": "execute_result"
    }
   ],
   "source": [
    "ja.subtract(6,3)"
   ]
  },
  {
   "cell_type": "code",
   "execution_count": 9,
   "id": "f4a99bcd-f488-4b25-8327-a30d3b812227",
   "metadata": {},
   "outputs": [
    {
     "data": {
      "text/plain": [
       "300"
      ]
     },
     "execution_count": 9,
     "metadata": {},
     "output_type": "execute_result"
    }
   ],
   "source": [
    "ja.multiply(15,20)"
   ]
  },
  {
   "cell_type": "code",
   "execution_count": 11,
   "id": "bcb2525d-5974-4c16-b65e-00b402f7ee9f",
   "metadata": {},
   "outputs": [
    {
     "data": {
      "text/plain": [
       "20.0"
      ]
     },
     "execution_count": 11,
     "metadata": {},
     "output_type": "execute_result"
    }
   ],
   "source": [
    "ja.divide(300,15)"
   ]
  },
  {
   "cell_type": "code",
   "execution_count": 21,
   "id": "d32bc88e-5880-4a1f-8660-f9d60144ed2d",
   "metadata": {},
   "outputs": [],
   "source": [
    "file_path = r\"Desktop/Shubham Chauhan/python/Machine_Learning_AI.txt\""
   ]
  },
  {
   "cell_type": "code",
   "execution_count": 1,
   "id": "942cc577-54cf-45dd-8b32-d7bc4c4c7dc0",
   "metadata": {},
   "outputs": [],
   "source": [
    "class jaani:\n",
    "    def love_you(self):\n",
    "        print(\"love you bby\")\n",
    "    def hate_you(self):\n",
    "        print(\"hate you yrr\")\n",
    "    "
   ]
  },
  {
   "cell_type": "code",
   "execution_count": 3,
   "id": "22f805a1-26ee-442a-a09d-9a5c9e87e553",
   "metadata": {},
   "outputs": [],
   "source": [
    "ustaad = jaani()"
   ]
  },
  {
   "cell_type": "code",
   "execution_count": 5,
   "id": "d52404a3-50ac-43c2-95ec-5adfaf9775fc",
   "metadata": {},
   "outputs": [
    {
     "name": "stdout",
     "output_type": "stream",
     "text": [
      "<__main__.jaani object at 0x000001EDB1A76300>\n"
     ]
    }
   ],
   "source": [
    "print(ustaad)"
   ]
  },
  {
   "cell_type": "code",
   "execution_count": 7,
   "id": "36481b3f-11dc-4786-877a-962598d8fdec",
   "metadata": {},
   "outputs": [
    {
     "name": "stdout",
     "output_type": "stream",
     "text": [
      "love you bby\n"
     ]
    }
   ],
   "source": [
    "ustaad.love_you()"
   ]
  },
  {
   "cell_type": "code",
   "execution_count": 9,
   "id": "05e5484c-7070-464e-8f91-c7d4c3a589e4",
   "metadata": {},
   "outputs": [
    {
     "name": "stdout",
     "output_type": "stream",
     "text": [
      "hate you yrr\n"
     ]
    }
   ],
   "source": [
    "ustaad.hate_you()"
   ]
  },
  {
   "cell_type": "code",
   "execution_count": 3,
   "id": "5ae8ada3-e5ef-4709-88c1-9ffa5831f513",
   "metadata": {},
   "outputs": [],
   "source": [
    "class jaani:\n",
    "    def __init__(self,name,age):\n",
    "        self._love_ = name\n",
    "        self.age = age\n",
    "        print(\"an object created..!\")\n",
    "    def hate_you(self):\n",
    "        return f\"name :{self._love_} age:{self.age}\""
   ]
  },
  {
   "cell_type": "code",
   "execution_count": 7,
   "id": "27879760-e603-4d54-b3bc-d0912486f82a",
   "metadata": {},
   "outputs": [
    {
     "name": "stdout",
     "output_type": "stream",
     "text": [
      "an object created..!\n"
     ]
    }
   ],
   "source": [
    "ja = jaani(\"Shubham\",22)"
   ]
  },
  {
   "cell_type": "code",
   "execution_count": 9,
   "id": "096dea6b-a0dd-4bd1-9016-00b54d723451",
   "metadata": {},
   "outputs": [
    {
     "data": {
      "text/plain": [
       "'name :Shubham age:22'"
      ]
     },
     "execution_count": 9,
     "metadata": {},
     "output_type": "execute_result"
    }
   ],
   "source": [
    "ja.hate_you()"
   ]
  },
  {
   "cell_type": "code",
   "execution_count": 13,
   "id": "6288dc26-8e52-4e30-aff9-f7200842708e",
   "metadata": {},
   "outputs": [],
   "source": [
    "class SchoolMember:\n",
    "    def __init__(self,name,age):\n",
    "        self.name = name \n",
    "        self.age = age\n",
    "    def tell(self):\n",
    "        print (f\"name {self.name} age{self.age}\",end = \" \")"
   ]
  },
  {
   "cell_type": "code",
   "execution_count": 15,
   "id": "3a58918b-adc5-42c0-913a-b9940da2d028",
   "metadata": {},
   "outputs": [],
   "source": [
    "class Teacher(SchoolMember):\n",
    "    def __init__(self,name,age,salary):\n",
    "        SchoolMember.__init__(self,name,age)\n",
    "        self.salary = salary\n",
    "    def tell(self):\n",
    "        SchoolMember.tell(self)\n",
    "        print(f'Salary:{self.salary}')"
   ]
  },
  {
   "cell_type": "code",
   "execution_count": 17,
   "id": "23cbf168-cdc2-4125-ba13-b4a505f75d98",
   "metadata": {},
   "outputs": [],
   "source": [
    "t1 = Teacher(\"Shubham\",25,50000)"
   ]
  },
  {
   "cell_type": "code",
   "execution_count": 19,
   "id": "0e0e372e-8ef1-4b1a-8512-7a89bd55ff09",
   "metadata": {},
   "outputs": [
    {
     "name": "stdout",
     "output_type": "stream",
     "text": [
      "name Shubham age25 Salary:50000\n"
     ]
    }
   ],
   "source": [
    "t1.tell()"
   ]
  },
  {
   "cell_type": "code",
   "execution_count": 21,
   "id": "b4421c5b-4f33-43c3-adba-49baa8ed6741",
   "metadata": {},
   "outputs": [],
   "source": [
    "class Student(SchoolMember):\n",
    "    def __init__(self,name,age,grade):\n",
    "        SchoolMember.__init__(self,name,age)\n",
    "        self.grade = grade\n",
    "    def tell(self):\n",
    "        SchoolMember.tell(self)\n",
    "        print(f'grade:{self.grade}')"
   ]
  },
  {
   "cell_type": "code",
   "execution_count": 29,
   "id": "ce1d25de-3463-4f82-ab9d-e336c8d19e94",
   "metadata": {},
   "outputs": [],
   "source": [
    "s1 = Student(\"Shubham\",22,6)"
   ]
  },
  {
   "cell_type": "code",
   "execution_count": 31,
   "id": "2d4a68d3-c307-4466-ae44-b03ce9b45b4c",
   "metadata": {},
   "outputs": [
    {
     "name": "stdout",
     "output_type": "stream",
     "text": [
      "name Shubham age22 grade:6\n"
     ]
    }
   ],
   "source": [
    "s1.tell()"
   ]
  },
  {
   "cell_type": "code",
   "execution_count": 47,
   "id": "2770da00-9206-40ae-a148-93a33a2d4ebe",
   "metadata": {},
   "outputs": [],
   "source": [
    "class Employee:\n",
    "    def __init__(self, name, employee_id, salary):\n",
    "        self.name = name\n",
    "        self.employee_id = employee_id\n",
    "        self.salary = salary\n",
    "    def display_details(self):\n",
    "        return f\"Employee name:{self.name}\\nEmployee ID:{self.employee_id}\\nSalary:${self.salary:.2f}\""
   ]
  },
  {
   "cell_type": "code",
   "execution_count": 61,
   "id": "19c2c7f4-09da-4ef2-9f0c-d4d888718f73",
   "metadata": {},
   "outputs": [],
   "source": [
    "class Manager(Employee):\n",
    "    def __init__(self,name,employee_id,salary,team_size):\n",
    "        super().__init__(name, employee_id,salary)\n",
    "        self.team_size = team_size\n",
    "    def  display_details(self):\n",
    "        \"Displays the manager's details, including team size.\"\n",
    "        employee_details = super().display_details()\n",
    "        return f\"{employee_details}\\nTeam Size:{self.team_size}\""
   ]
  },
  {
   "cell_type": "code",
   "execution_count": 63,
   "id": "3ab41335-1025-4cd8-8fea-10840bfd20e4",
   "metadata": {},
   "outputs": [
    {
     "name": "stdout",
     "output_type": "stream",
     "text": [
      "Employee Details\n",
      "Employee name:Employee1\n",
      "Employee ID:E001\n",
      "Salary:$50000.00\n",
      "\n",
      "Manager details\n",
      "Employee name:Manager\n",
      "Employee ID:M456\n",
      "Salary:$80000.00\n",
      "Team Size:10\n"
     ]
    }
   ],
   "source": [
    "if __name__ == \"__main__\":\n",
    "    employee = Employee(\"Employee1\",\"E001\",50000)\n",
    "    manager = Manager(\"Manager\", \"M456\",80000,10)\n",
    "    print (\"Employee Details\")\n",
    "    print (employee.display_details())\n",
    "    print (\"\\nManager details\")\n",
    "    print (manager.display_details())\n",
    "    "
   ]
  },
  {
   "cell_type": "code",
   "execution_count": 79,
   "id": "b332ee6b-4104-4994-97d9-7ae321356ae9",
   "metadata": {},
   "outputs": [],
   "source": [
    "from abc import  ABC, abstractmethod\n",
    "\n",
    "class Animal(ABC):\n",
    "    @abstractmethod\n",
    "    def speak(self):\n",
    "        print(\"Bark\")"
   ]
  },
  {
   "cell_type": "code",
   "execution_count": 81,
   "id": "5d5535c9-08c7-46fd-91a1-26fc04e0bab0",
   "metadata": {},
   "outputs": [],
   "source": [
    "class Cat(Animal):\n",
    "     def speak(self):\n",
    "         print(\"meaw\")"
   ]
  },
  {
   "cell_type": "code",
   "execution_count": 83,
   "id": "f9411693-6fa0-4fb7-950c-18e18042f23f",
   "metadata": {},
   "outputs": [],
   "source": [
    "class Lion(Animal):\n",
    "    def speak(self):\n",
    "        print(\"Roar\")"
   ]
  },
  {
   "cell_type": "code",
   "execution_count": 85,
   "id": "7b2e27b5-56ac-43bb-a660-aa972be03301",
   "metadata": {},
   "outputs": [],
   "source": [
    "class Dog(Animal):\n",
    "    def speak(self):\n",
    "        print(\"Bark\")"
   ]
  },
  {
   "cell_type": "code",
   "execution_count": 93,
   "id": "654dbf5b-7ab3-4702-b4e6-fd1c3754f9a0",
   "metadata": {},
   "outputs": [
    {
     "name": "stdout",
     "output_type": "stream",
     "text": [
      "Bark\n"
     ]
    }
   ],
   "source": [
    "d = Dog()\n",
    "d.speak()"
   ]
  },
  {
   "cell_type": "code",
   "execution_count": 97,
   "id": "03cfb93f-f4e1-41ee-af2c-337856f0f50d",
   "metadata": {},
   "outputs": [
    {
     "name": "stdout",
     "output_type": "stream",
     "text": [
      "meaw\n"
     ]
    }
   ],
   "source": [
    "c = Cat()\n",
    "c.speak()"
   ]
  },
  {
   "cell_type": "code",
   "execution_count": 105,
   "id": "6366fe28-767d-4a38-88d2-f59a09980da0",
   "metadata": {},
   "outputs": [
    {
     "name": "stdout",
     "output_type": "stream",
     "text": [
      "Roar\n"
     ]
    }
   ],
   "source": [
    "l = Lion()\n",
    "l.speak()"
   ]
  },
  {
   "cell_type": "code",
   "execution_count": 141,
   "id": "be198ef0-9913-4f68-915c-6b2eca128c10",
   "metadata": {},
   "outputs": [],
   "source": [
    "class BillingRecord(ABC):\n",
    "    @abstractmethod\n",
    "    def get_bill(self):\n",
    "        pass\n",
    "    @abstractmethod\n",
    "    def update_bill(self,amount):\n",
    "        pass"
   ]
  },
  {
   "cell_type": "code",
   "execution_count": 164,
   "id": "5a3d7f04-9692-4335-9360-4cc2274ea47b",
   "metadata": {},
   "outputs": [],
   "source": [
    "class Patient_Billing(BillingRecord):\n",
    "    def __init__(self,patient_id,patient_name,billing_amount=0):\n",
    "        self.patient_id = patient_id\n",
    "        self.patient_name = patient_name\n",
    "        self.billing_amount = billing_amount\n",
    "    def get_bill(self):\n",
    "        return{'Patient ID':self.patient_id,'Patient Name':self.patient_name,'Billing Amount':f'${self.billing_amount:.2f}'}\n",
    "    def update_bill(self,amount):\n",
    "        if amount > 0:\n",
    "            self.billing_amount += amount\n",
    "            print(f\"Billing Amount updated by ${amount:.2f}.New amount is ${self.billing_amount:.2f}.\")\n",
    "        else:\n",
    "            print (\"Amount to update must be in positive\")"
   ]
  },
  {
   "cell_type": "code",
   "execution_count": 168,
   "id": "af9ead41-4bce-475f-81c3-cc969cb70242",
   "metadata": {},
   "outputs": [
    {
     "name": "stdout",
     "output_type": "stream",
     "text": [
      "Initial Bill details:\n",
      "{'Patient ID': 'p001', 'Patient Name': 'Gulshan yadav', 'Billing Amount': '$15000.00'}\n",
      "Billing Amount updated by $500.00.New amount is $15500.00.\n",
      "\n",
      "Updated Bill Details:\n",
      "{'Patient ID': 'p001', 'Patient Name': 'Gulshan yadav', 'Billing Amount': '$15500.00'}\n"
     ]
    }
   ],
   "source": [
    "if __name__==\"__main__\":\n",
    "    patient_bill = Patient_Billing(patient_id=\"p001\",patient_name=\"Gulshan yadav\", billing_amount=15000.00)\n",
    "    print(\"Initial Bill details:\")\n",
    "    print(patient_bill.get_bill())\n",
    "    patient_bill.update_bill(500.00)\n",
    "    print(\"\\nUpdated Bill Details:\")\n",
    "    print(patient_bill.get_bill()) \n"
   ]
  },
  {
   "cell_type": "code",
   "execution_count": null,
   "id": "cf8d2925-4d49-4c03-a875-f1283047c882",
   "metadata": {},
   "outputs": [],
   "source": []
  },
  {
   "cell_type": "code",
   "execution_count": null,
   "id": "f837c9ac-2da7-4f91-ab8b-272874b7ab16",
   "metadata": {},
   "outputs": [],
   "source": []
  }
 ],
 "metadata": {
  "kernelspec": {
   "display_name": "Python 3 (ipykernel)",
   "language": "python",
   "name": "python3"
  },
  "language_info": {
   "codemirror_mode": {
    "name": "ipython",
    "version": 3
   },
   "file_extension": ".py",
   "mimetype": "text/x-python",
   "name": "python",
   "nbconvert_exporter": "python",
   "pygments_lexer": "ipython3",
   "version": "3.12.7"
  }
 },
 "nbformat": 4,
 "nbformat_minor": 5
}
